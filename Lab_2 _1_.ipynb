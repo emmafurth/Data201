{
 "cells": [
  {
   "cell_type": "code",
   "execution_count": 1,
   "metadata": {},
   "outputs": [],
   "source": [
    "import numpy as np"
   ]
  },
  {
   "cell_type": "code",
   "execution_count": 3,
   "metadata": {},
   "outputs": [
    {
     "data": {
      "text/plain": [
       "array([[1., 0., 0., 0., 0.],\n",
       "       [0., 1., 0., 0., 0.],\n",
       "       [0., 0., 1., 0., 0.],\n",
       "       [0., 0., 0., 1., 0.],\n",
       "       [0., 0., 0., 0., 1.]])"
      ]
     },
     "execution_count": 3,
     "metadata": {},
     "output_type": "execute_result"
    }
   ],
   "source": [
    "#Q1\n",
    "# Use Numpy to create a 5x5 identity matrix\n",
    "ident = np.eye(5)\n",
    "\n",
    "ident"
   ]
  },
  {
   "cell_type": "code",
   "execution_count": 6,
   "metadata": {},
   "outputs": [
    {
     "name": "stdout",
     "output_type": "stream",
     "text": [
      "[4 7 9 7 3]\n",
      "[3 7 9 7 4]\n"
     ]
    }
   ],
   "source": [
    "#Q2\n",
    "#Write a function that accepts an array and return its revers (e.g., [1 2 3 4] -> [4 3 2 1])\n",
    "\n",
    "# def reverse(arr):\n",
    "#     return np.flip(arr)\n",
    "\n",
    "def reverse(x):\n",
    "  return(x[::-1])\n",
    "        \n",
    "a = np.random.randint(0, 10, 5)\n",
    "\n",
    "print(a)\n",
    "\n",
    "b = reverse(a)\n",
    "\n",
    "print (b)"
   ]
  },
  {
   "cell_type": "code",
   "execution_count": 9,
   "metadata": {},
   "outputs": [
    {
     "name": "stdout",
     "output_type": "stream",
     "text": [
      "[1, 2, 0, 4]\n"
     ]
    }
   ],
   "source": [
    "#Q3\n",
    "# Write a code that replaces the negative values of an array with zero\n",
    "\n",
    "arr = [1,2,-3,4]\n",
    "\n",
    "for i in range(0,len(arr)):\n",
    "    if arr[i] < 0:\n",
    "        arr[i] = 0\n",
    "\n",
    "print(arr)"
   ]
  },
  {
   "cell_type": "code",
   "execution_count": 12,
   "metadata": {},
   "outputs": [
    {
     "name": "stdout",
     "output_type": "stream",
     "text": [
      "[[9 2 0 9]\n",
      " [2 3 6 4]\n",
      " [2 6 5 4]]\n",
      "[[0 2 9 9]\n",
      " [6 3 2 4]\n",
      " [5 6 2 4]]\n"
     ]
    }
   ],
   "source": [
    "#Q4\n",
    "# Create an array of shape 3x4 and swap column 1 and column 3\n",
    "\n",
    "a2 = np.random.randint(10, size=(3, 4))\n",
    "\n",
    "print(a2)\n",
    "\n",
    "col1 = a2[:,0].copy()\n",
    "col3 = a2[:,2].copy()\n",
    "a2[:,0] = col3\n",
    "a2[:,2] = col1\n",
    "\n",
    "print(a2)"
   ]
  },
  {
   "cell_type": "code",
   "execution_count": 13,
   "metadata": {},
   "outputs": [
    {
     "data": {
      "text/plain": [
       "array([[ 94.83570187,  96.49073245, 101.34806213, 103.01072498],\n",
       "       [ 95.73701455,  74.02818067,  92.50203326,  98.84166969],\n",
       "       [130.29872822, 115.40402426, 109.92747674, 113.85857256]])"
      ]
     },
     "execution_count": 13,
     "metadata": {},
     "output_type": "execute_result"
    }
   ],
   "source": [
    "#Q5\n",
    "# Create an array of shape 3x4 by drawing random numbers from a normal (Gaussian) distribution\n",
    "# with mean 100 and standard deviation 15\n",
    "\n",
    "np.random.normal(100, 15, (3, 4))"
   ]
  },
  {
   "cell_type": "code",
   "execution_count": null,
   "metadata": {},
   "outputs": [],
   "source": []
  }
 ],
 "metadata": {
  "kernelspec": {
   "display_name": "Python 3",
   "language": "python",
   "name": "python3"
  },
  "language_info": {
   "codemirror_mode": {
    "name": "ipython",
    "version": 3
   },
   "file_extension": ".py",
   "mimetype": "text/x-python",
   "name": "python",
   "nbconvert_exporter": "python",
   "pygments_lexer": "ipython3",
   "version": "3.12.2"
  }
 },
 "nbformat": 4,
 "nbformat_minor": 4
}
