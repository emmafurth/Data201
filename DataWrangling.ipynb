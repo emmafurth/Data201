{
  "cells": [
    {
      "cell_type": "code",
      "execution_count": 1,
      "metadata": {
        "colab": {},
        "colab_type": "code",
        "id": "Ktd93VYl7Qvo"
      },
      "outputs": [],
      "source": [
        "# import pandas alias pd\n",
        "import pandas as pd"
      ]
    },
    {
      "cell_type": "markdown",
      "metadata": {
        "colab_type": "text",
        "id": "-5LBip6666-c"
      },
      "source": [
        "### Reading Data Files into Pandas\n",
        "Reference: (http://nbviewer.jupyter.org/github/justmarkham/pandas-videos/blob/master/pandas.ipynb)"
      ]
    },
    {
      "cell_type": "code",
      "execution_count": 2,
      "metadata": {
        "colab": {},
        "colab_type": "code",
        "id": "q-SOOvug59RW"
      },
      "outputs": [],
      "source": [
        "# tab-seperated data into pandas data frame. the data is Chipotle orders\n",
        "orders = pd.read_table('http://bit.ly/chiporders')"
      ]
    },
    {
      "cell_type": "code",
      "execution_count": 3,
      "metadata": {
        "colab": {
          "base_uri": "https://localhost:8080/",
          "height": 238
        },
        "colab_type": "code",
        "id": "Ys58l61O7p1o",
        "outputId": "4270b1a7-4848-46bd-d88d-8380b6b918bc"
      },
      "outputs": [
        {
          "data": {
            "text/html": [
              "<div>\n",
              "<style scoped>\n",
              "    .dataframe tbody tr th:only-of-type {\n",
              "        vertical-align: middle;\n",
              "    }\n",
              "\n",
              "    .dataframe tbody tr th {\n",
              "        vertical-align: top;\n",
              "    }\n",
              "\n",
              "    .dataframe thead th {\n",
              "        text-align: right;\n",
              "    }\n",
              "</style>\n",
              "<table border=\"1\" class=\"dataframe\">\n",
              "  <thead>\n",
              "    <tr style=\"text-align: right;\">\n",
              "      <th></th>\n",
              "      <th>order_id</th>\n",
              "      <th>quantity</th>\n",
              "      <th>item_name</th>\n",
              "      <th>choice_description</th>\n",
              "      <th>item_price</th>\n",
              "    </tr>\n",
              "  </thead>\n",
              "  <tbody>\n",
              "    <tr>\n",
              "      <th>0</th>\n",
              "      <td>1</td>\n",
              "      <td>1</td>\n",
              "      <td>Chips and Fresh Tomato Salsa</td>\n",
              "      <td>NaN</td>\n",
              "      <td>$2.39</td>\n",
              "    </tr>\n",
              "    <tr>\n",
              "      <th>1</th>\n",
              "      <td>1</td>\n",
              "      <td>1</td>\n",
              "      <td>Izze</td>\n",
              "      <td>[Clementine]</td>\n",
              "      <td>$3.39</td>\n",
              "    </tr>\n",
              "    <tr>\n",
              "      <th>2</th>\n",
              "      <td>1</td>\n",
              "      <td>1</td>\n",
              "      <td>Nantucket Nectar</td>\n",
              "      <td>[Apple]</td>\n",
              "      <td>$3.39</td>\n",
              "    </tr>\n",
              "    <tr>\n",
              "      <th>3</th>\n",
              "      <td>1</td>\n",
              "      <td>1</td>\n",
              "      <td>Chips and Tomatillo-Green Chili Salsa</td>\n",
              "      <td>NaN</td>\n",
              "      <td>$2.39</td>\n",
              "    </tr>\n",
              "    <tr>\n",
              "      <th>4</th>\n",
              "      <td>2</td>\n",
              "      <td>2</td>\n",
              "      <td>Chicken Bowl</td>\n",
              "      <td>[Tomatillo-Red Chili Salsa (Hot), [Black Beans...</td>\n",
              "      <td>$16.98</td>\n",
              "    </tr>\n",
              "  </tbody>\n",
              "</table>\n",
              "</div>"
            ],
            "text/plain": [
              "   order_id  quantity                              item_name  \\\n",
              "0         1         1           Chips and Fresh Tomato Salsa   \n",
              "1         1         1                                   Izze   \n",
              "2         1         1                       Nantucket Nectar   \n",
              "3         1         1  Chips and Tomatillo-Green Chili Salsa   \n",
              "4         2         2                           Chicken Bowl   \n",
              "\n",
              "                                  choice_description item_price  \n",
              "0                                                NaN     $2.39   \n",
              "1                                       [Clementine]     $3.39   \n",
              "2                                            [Apple]     $3.39   \n",
              "3                                                NaN     $2.39   \n",
              "4  [Tomatillo-Red Chili Salsa (Hot), [Black Beans...    $16.98   "
            ]
          },
          "execution_count": 3,
          "metadata": {},
          "output_type": "execute_result"
        }
      ],
      "source": [
        "orders.head()  # head is a method of the data frame orders"
      ]
    },
    {
      "cell_type": "code",
      "execution_count": 4,
      "metadata": {
        "colab": {},
        "colab_type": "code",
        "id": "KmFpTvEZ8DOy"
      },
      "outputs": [
        {
          "name": "stdout",
          "output_type": "stream",
          "text": [
            "\u001b[1;31mSignature:\u001b[0m\n",
            "\u001b[0mpd\u001b[0m\u001b[1;33m.\u001b[0m\u001b[0mread_table\u001b[0m\u001b[1;33m(\u001b[0m\u001b[1;33m\n",
            "\u001b[0m    \u001b[0mfilepath_or_buffer\u001b[0m\u001b[1;33m:\u001b[0m \u001b[1;34m'FilePath | ReadCsvBuffer[bytes] | ReadCsvBuffer[str]'\u001b[0m\u001b[1;33m,\u001b[0m\u001b[1;33m\n",
            "\u001b[0m    \u001b[1;33m*\u001b[0m\u001b[1;33m,\u001b[0m\u001b[1;33m\n",
            "\u001b[0m    \u001b[0msep\u001b[0m\u001b[1;33m:\u001b[0m \u001b[1;34m'str | None | lib.NoDefault'\u001b[0m \u001b[1;33m=\u001b[0m \u001b[1;33m<\u001b[0m\u001b[0mno_default\u001b[0m\u001b[1;33m>\u001b[0m\u001b[1;33m,\u001b[0m\u001b[1;33m\n",
            "\u001b[0m    \u001b[0mdelimiter\u001b[0m\u001b[1;33m:\u001b[0m \u001b[1;34m'str | None | lib.NoDefault'\u001b[0m \u001b[1;33m=\u001b[0m \u001b[1;32mNone\u001b[0m\u001b[1;33m,\u001b[0m\u001b[1;33m\n",
            "\u001b[0m    \u001b[0mheader\u001b[0m\u001b[1;33m:\u001b[0m \u001b[1;34m\"int | Sequence[int] | None | Literal['infer']\"\u001b[0m \u001b[1;33m=\u001b[0m \u001b[1;34m'infer'\u001b[0m\u001b[1;33m,\u001b[0m\u001b[1;33m\n",
            "\u001b[0m    \u001b[0mnames\u001b[0m\u001b[1;33m:\u001b[0m \u001b[1;34m'Sequence[Hashable] | None | lib.NoDefault'\u001b[0m \u001b[1;33m=\u001b[0m \u001b[1;33m<\u001b[0m\u001b[0mno_default\u001b[0m\u001b[1;33m>\u001b[0m\u001b[1;33m,\u001b[0m\u001b[1;33m\n",
            "\u001b[0m    \u001b[0mindex_col\u001b[0m\u001b[1;33m:\u001b[0m \u001b[1;34m'IndexLabel | Literal[False] | None'\u001b[0m \u001b[1;33m=\u001b[0m \u001b[1;32mNone\u001b[0m\u001b[1;33m,\u001b[0m\u001b[1;33m\n",
            "\u001b[0m    \u001b[0musecols\u001b[0m\u001b[1;33m:\u001b[0m \u001b[1;34m'UsecolsArgType'\u001b[0m \u001b[1;33m=\u001b[0m \u001b[1;32mNone\u001b[0m\u001b[1;33m,\u001b[0m\u001b[1;33m\n",
            "\u001b[0m    \u001b[0mdtype\u001b[0m\u001b[1;33m:\u001b[0m \u001b[1;34m'DtypeArg | None'\u001b[0m \u001b[1;33m=\u001b[0m \u001b[1;32mNone\u001b[0m\u001b[1;33m,\u001b[0m\u001b[1;33m\n",
            "\u001b[0m    \u001b[0mengine\u001b[0m\u001b[1;33m:\u001b[0m \u001b[1;34m'CSVEngine | None'\u001b[0m \u001b[1;33m=\u001b[0m \u001b[1;32mNone\u001b[0m\u001b[1;33m,\u001b[0m\u001b[1;33m\n",
            "\u001b[0m    \u001b[0mconverters\u001b[0m\u001b[1;33m:\u001b[0m \u001b[1;34m'Mapping[Hashable, Callable] | None'\u001b[0m \u001b[1;33m=\u001b[0m \u001b[1;32mNone\u001b[0m\u001b[1;33m,\u001b[0m\u001b[1;33m\n",
            "\u001b[0m    \u001b[0mtrue_values\u001b[0m\u001b[1;33m:\u001b[0m \u001b[1;34m'list | None'\u001b[0m \u001b[1;33m=\u001b[0m \u001b[1;32mNone\u001b[0m\u001b[1;33m,\u001b[0m\u001b[1;33m\n",
            "\u001b[0m    \u001b[0mfalse_values\u001b[0m\u001b[1;33m:\u001b[0m \u001b[1;34m'list | None'\u001b[0m \u001b[1;33m=\u001b[0m \u001b[1;32mNone\u001b[0m\u001b[1;33m,\u001b[0m\u001b[1;33m\n",
            "\u001b[0m    \u001b[0mskipinitialspace\u001b[0m\u001b[1;33m:\u001b[0m \u001b[1;34m'bool'\u001b[0m \u001b[1;33m=\u001b[0m \u001b[1;32mFalse\u001b[0m\u001b[1;33m,\u001b[0m\u001b[1;33m\n",
            "\u001b[0m    \u001b[0mskiprows\u001b[0m\u001b[1;33m:\u001b[0m \u001b[1;34m'list[int] | int | Callable[[Hashable], bool] | None'\u001b[0m \u001b[1;33m=\u001b[0m \u001b[1;32mNone\u001b[0m\u001b[1;33m,\u001b[0m\u001b[1;33m\n",
            "\u001b[0m    \u001b[0mskipfooter\u001b[0m\u001b[1;33m:\u001b[0m \u001b[1;34m'int'\u001b[0m \u001b[1;33m=\u001b[0m \u001b[1;36m0\u001b[0m\u001b[1;33m,\u001b[0m\u001b[1;33m\n",
            "\u001b[0m    \u001b[0mnrows\u001b[0m\u001b[1;33m:\u001b[0m \u001b[1;34m'int | None'\u001b[0m \u001b[1;33m=\u001b[0m \u001b[1;32mNone\u001b[0m\u001b[1;33m,\u001b[0m\u001b[1;33m\n",
            "\u001b[0m    \u001b[0mna_values\u001b[0m\u001b[1;33m:\u001b[0m \u001b[1;34m'Sequence[str] | Mapping[str, Sequence[str]] | None'\u001b[0m \u001b[1;33m=\u001b[0m \u001b[1;32mNone\u001b[0m\u001b[1;33m,\u001b[0m\u001b[1;33m\n",
            "\u001b[0m    \u001b[0mkeep_default_na\u001b[0m\u001b[1;33m:\u001b[0m \u001b[1;34m'bool'\u001b[0m \u001b[1;33m=\u001b[0m \u001b[1;32mTrue\u001b[0m\u001b[1;33m,\u001b[0m\u001b[1;33m\n",
            "\u001b[0m    \u001b[0mna_filter\u001b[0m\u001b[1;33m:\u001b[0m \u001b[1;34m'bool'\u001b[0m \u001b[1;33m=\u001b[0m \u001b[1;32mTrue\u001b[0m\u001b[1;33m,\u001b[0m\u001b[1;33m\n",
            "\u001b[0m    \u001b[0mverbose\u001b[0m\u001b[1;33m:\u001b[0m \u001b[1;34m'bool | lib.NoDefault'\u001b[0m \u001b[1;33m=\u001b[0m \u001b[1;33m<\u001b[0m\u001b[0mno_default\u001b[0m\u001b[1;33m>\u001b[0m\u001b[1;33m,\u001b[0m\u001b[1;33m\n",
            "\u001b[0m    \u001b[0mskip_blank_lines\u001b[0m\u001b[1;33m:\u001b[0m \u001b[1;34m'bool'\u001b[0m \u001b[1;33m=\u001b[0m \u001b[1;32mTrue\u001b[0m\u001b[1;33m,\u001b[0m\u001b[1;33m\n",
            "\u001b[0m    \u001b[0mparse_dates\u001b[0m\u001b[1;33m:\u001b[0m \u001b[1;34m'bool | Sequence[Hashable]'\u001b[0m \u001b[1;33m=\u001b[0m \u001b[1;32mFalse\u001b[0m\u001b[1;33m,\u001b[0m\u001b[1;33m\n",
            "\u001b[0m    \u001b[0minfer_datetime_format\u001b[0m\u001b[1;33m:\u001b[0m \u001b[1;34m'bool | lib.NoDefault'\u001b[0m \u001b[1;33m=\u001b[0m \u001b[1;33m<\u001b[0m\u001b[0mno_default\u001b[0m\u001b[1;33m>\u001b[0m\u001b[1;33m,\u001b[0m\u001b[1;33m\n",
            "\u001b[0m    \u001b[0mkeep_date_col\u001b[0m\u001b[1;33m:\u001b[0m \u001b[1;34m'bool | lib.NoDefault'\u001b[0m \u001b[1;33m=\u001b[0m \u001b[1;33m<\u001b[0m\u001b[0mno_default\u001b[0m\u001b[1;33m>\u001b[0m\u001b[1;33m,\u001b[0m\u001b[1;33m\n",
            "\u001b[0m    \u001b[0mdate_parser\u001b[0m\u001b[1;33m:\u001b[0m \u001b[1;34m'Callable | lib.NoDefault'\u001b[0m \u001b[1;33m=\u001b[0m \u001b[1;33m<\u001b[0m\u001b[0mno_default\u001b[0m\u001b[1;33m>\u001b[0m\u001b[1;33m,\u001b[0m\u001b[1;33m\n",
            "\u001b[0m    \u001b[0mdate_format\u001b[0m\u001b[1;33m:\u001b[0m \u001b[1;34m'str | dict[Hashable, str] | None'\u001b[0m \u001b[1;33m=\u001b[0m \u001b[1;32mNone\u001b[0m\u001b[1;33m,\u001b[0m\u001b[1;33m\n",
            "\u001b[0m    \u001b[0mdayfirst\u001b[0m\u001b[1;33m:\u001b[0m \u001b[1;34m'bool'\u001b[0m \u001b[1;33m=\u001b[0m \u001b[1;32mFalse\u001b[0m\u001b[1;33m,\u001b[0m\u001b[1;33m\n",
            "\u001b[0m    \u001b[0mcache_dates\u001b[0m\u001b[1;33m:\u001b[0m \u001b[1;34m'bool'\u001b[0m \u001b[1;33m=\u001b[0m \u001b[1;32mTrue\u001b[0m\u001b[1;33m,\u001b[0m\u001b[1;33m\n",
            "\u001b[0m    \u001b[0miterator\u001b[0m\u001b[1;33m:\u001b[0m \u001b[1;34m'bool'\u001b[0m \u001b[1;33m=\u001b[0m \u001b[1;32mFalse\u001b[0m\u001b[1;33m,\u001b[0m\u001b[1;33m\n",
            "\u001b[0m    \u001b[0mchunksize\u001b[0m\u001b[1;33m:\u001b[0m \u001b[1;34m'int | None'\u001b[0m \u001b[1;33m=\u001b[0m \u001b[1;32mNone\u001b[0m\u001b[1;33m,\u001b[0m\u001b[1;33m\n",
            "\u001b[0m    \u001b[0mcompression\u001b[0m\u001b[1;33m:\u001b[0m \u001b[1;34m'CompressionOptions'\u001b[0m \u001b[1;33m=\u001b[0m \u001b[1;34m'infer'\u001b[0m\u001b[1;33m,\u001b[0m\u001b[1;33m\n",
            "\u001b[0m    \u001b[0mthousands\u001b[0m\u001b[1;33m:\u001b[0m \u001b[1;34m'str | None'\u001b[0m \u001b[1;33m=\u001b[0m \u001b[1;32mNone\u001b[0m\u001b[1;33m,\u001b[0m\u001b[1;33m\n",
            "\u001b[0m    \u001b[0mdecimal\u001b[0m\u001b[1;33m:\u001b[0m \u001b[1;34m'str'\u001b[0m \u001b[1;33m=\u001b[0m \u001b[1;34m'.'\u001b[0m\u001b[1;33m,\u001b[0m\u001b[1;33m\n",
            "\u001b[0m    \u001b[0mlineterminator\u001b[0m\u001b[1;33m:\u001b[0m \u001b[1;34m'str | None'\u001b[0m \u001b[1;33m=\u001b[0m \u001b[1;32mNone\u001b[0m\u001b[1;33m,\u001b[0m\u001b[1;33m\n",
            "\u001b[0m    \u001b[0mquotechar\u001b[0m\u001b[1;33m:\u001b[0m \u001b[1;34m'str'\u001b[0m \u001b[1;33m=\u001b[0m \u001b[1;34m'\"'\u001b[0m\u001b[1;33m,\u001b[0m\u001b[1;33m\n",
            "\u001b[0m    \u001b[0mquoting\u001b[0m\u001b[1;33m:\u001b[0m \u001b[1;34m'int'\u001b[0m \u001b[1;33m=\u001b[0m \u001b[1;36m0\u001b[0m\u001b[1;33m,\u001b[0m\u001b[1;33m\n",
            "\u001b[0m    \u001b[0mdoublequote\u001b[0m\u001b[1;33m:\u001b[0m \u001b[1;34m'bool'\u001b[0m \u001b[1;33m=\u001b[0m \u001b[1;32mTrue\u001b[0m\u001b[1;33m,\u001b[0m\u001b[1;33m\n",
            "\u001b[0m    \u001b[0mescapechar\u001b[0m\u001b[1;33m:\u001b[0m \u001b[1;34m'str | None'\u001b[0m \u001b[1;33m=\u001b[0m \u001b[1;32mNone\u001b[0m\u001b[1;33m,\u001b[0m\u001b[1;33m\n",
            "\u001b[0m    \u001b[0mcomment\u001b[0m\u001b[1;33m:\u001b[0m \u001b[1;34m'str | None'\u001b[0m \u001b[1;33m=\u001b[0m \u001b[1;32mNone\u001b[0m\u001b[1;33m,\u001b[0m\u001b[1;33m\n",
            "\u001b[0m    \u001b[0mencoding\u001b[0m\u001b[1;33m:\u001b[0m \u001b[1;34m'str | None'\u001b[0m \u001b[1;33m=\u001b[0m \u001b[1;32mNone\u001b[0m\u001b[1;33m,\u001b[0m\u001b[1;33m\n",
            "\u001b[0m    \u001b[0mencoding_errors\u001b[0m\u001b[1;33m:\u001b[0m \u001b[1;34m'str | None'\u001b[0m \u001b[1;33m=\u001b[0m \u001b[1;34m'strict'\u001b[0m\u001b[1;33m,\u001b[0m\u001b[1;33m\n",
            "\u001b[0m    \u001b[0mdialect\u001b[0m\u001b[1;33m:\u001b[0m \u001b[1;34m'str | csv.Dialect | None'\u001b[0m \u001b[1;33m=\u001b[0m \u001b[1;32mNone\u001b[0m\u001b[1;33m,\u001b[0m\u001b[1;33m\n",
            "\u001b[0m    \u001b[0mon_bad_lines\u001b[0m\u001b[1;33m:\u001b[0m \u001b[1;34m'str'\u001b[0m \u001b[1;33m=\u001b[0m \u001b[1;34m'error'\u001b[0m\u001b[1;33m,\u001b[0m\u001b[1;33m\n",
            "\u001b[0m    \u001b[0mdelim_whitespace\u001b[0m\u001b[1;33m:\u001b[0m \u001b[1;34m'bool | lib.NoDefault'\u001b[0m \u001b[1;33m=\u001b[0m \u001b[1;33m<\u001b[0m\u001b[0mno_default\u001b[0m\u001b[1;33m>\u001b[0m\u001b[1;33m,\u001b[0m\u001b[1;33m\n",
            "\u001b[0m    \u001b[0mlow_memory\u001b[0m\u001b[1;33m:\u001b[0m \u001b[1;34m'bool'\u001b[0m \u001b[1;33m=\u001b[0m \u001b[1;32mTrue\u001b[0m\u001b[1;33m,\u001b[0m\u001b[1;33m\n",
            "\u001b[0m    \u001b[0mmemory_map\u001b[0m\u001b[1;33m:\u001b[0m \u001b[1;34m'bool'\u001b[0m \u001b[1;33m=\u001b[0m \u001b[1;32mFalse\u001b[0m\u001b[1;33m,\u001b[0m\u001b[1;33m\n",
            "\u001b[0m    \u001b[0mfloat_precision\u001b[0m\u001b[1;33m:\u001b[0m \u001b[1;34m'str | None'\u001b[0m \u001b[1;33m=\u001b[0m \u001b[1;32mNone\u001b[0m\u001b[1;33m,\u001b[0m\u001b[1;33m\n",
            "\u001b[0m    \u001b[0mstorage_options\u001b[0m\u001b[1;33m:\u001b[0m \u001b[1;34m'StorageOptions | None'\u001b[0m \u001b[1;33m=\u001b[0m \u001b[1;32mNone\u001b[0m\u001b[1;33m,\u001b[0m\u001b[1;33m\n",
            "\u001b[0m    \u001b[0mdtype_backend\u001b[0m\u001b[1;33m:\u001b[0m \u001b[1;34m'DtypeBackend | lib.NoDefault'\u001b[0m \u001b[1;33m=\u001b[0m \u001b[1;33m<\u001b[0m\u001b[0mno_default\u001b[0m\u001b[1;33m>\u001b[0m\u001b[1;33m,\u001b[0m\u001b[1;33m\n",
            "\u001b[0m\u001b[1;33m)\u001b[0m \u001b[1;33m->\u001b[0m \u001b[1;34m'DataFrame | TextFileReader'\u001b[0m\u001b[1;33m\u001b[0m\u001b[1;33m\u001b[0m\u001b[0m\n",
            "\u001b[1;31mDocstring:\u001b[0m\n",
            "Read general delimited file into DataFrame.\n",
            "\n",
            "Also supports optionally iterating or breaking of the file\n",
            "into chunks.\n",
            "\n",
            "Additional help can be found in the online docs for\n",
            "`IO Tools <https://pandas.pydata.org/pandas-docs/stable/user_guide/io.html>`_.\n",
            "\n",
            "Parameters\n",
            "----------\n",
            "filepath_or_buffer : str, path object or file-like object\n",
            "    Any valid string path is acceptable. The string could be a URL. Valid\n",
            "    URL schemes include http, ftp, s3, gs, and file. For file URLs, a host is\n",
            "    expected. A local file could be: file://localhost/path/to/table.csv.\n",
            "\n",
            "    If you want to pass in a path object, pandas accepts any ``os.PathLike``.\n",
            "\n",
            "    By file-like object, we refer to objects with a ``read()`` method, such as\n",
            "    a file handle (e.g. via builtin ``open`` function) or ``StringIO``.\n",
            "sep : str, default '\\\\t' (tab-stop)\n",
            "    Character or regex pattern to treat as the delimiter. If ``sep=None``, the\n",
            "    C engine cannot automatically detect\n",
            "    the separator, but the Python parsing engine can, meaning the latter will\n",
            "    be used and automatically detect the separator from only the first valid\n",
            "    row of the file by Python's builtin sniffer tool, ``csv.Sniffer``.\n",
            "    In addition, separators longer than 1 character and different from\n",
            "    ``'\\s+'`` will be interpreted as regular expressions and will also force\n",
            "    the use of the Python parsing engine. Note that regex delimiters are prone\n",
            "    to ignoring quoted data. Regex example: ``'\\r\\t'``.\n",
            "delimiter : str, optional\n",
            "    Alias for ``sep``.\n",
            "header : int, Sequence of int, 'infer' or None, default 'infer'\n",
            "    Row number(s) containing column labels and marking the start of the\n",
            "    data (zero-indexed). Default behavior is to infer the column names: if no ``names``\n",
            "    are passed the behavior is identical to ``header=0`` and column\n",
            "    names are inferred from the first line of the file, if column\n",
            "    names are passed explicitly to ``names`` then the behavior is identical to\n",
            "    ``header=None``. Explicitly pass ``header=0`` to be able to\n",
            "    replace existing names. The header can be a list of integers that\n",
            "    specify row locations for a :class:`~pandas.MultiIndex` on the columns\n",
            "    e.g. ``[0, 1, 3]``. Intervening rows that are not specified will be\n",
            "    skipped (e.g. 2 in this example is skipped). Note that this\n",
            "    parameter ignores commented lines and empty lines if\n",
            "    ``skip_blank_lines=True``, so ``header=0`` denotes the first line of\n",
            "    data rather than the first line of the file.\n",
            "names : Sequence of Hashable, optional\n",
            "    Sequence of column labels to apply. If the file contains a header row,\n",
            "    then you should explicitly pass ``header=0`` to override the column names.\n",
            "    Duplicates in this list are not allowed.\n",
            "index_col : Hashable, Sequence of Hashable or False, optional\n",
            "  Column(s) to use as row label(s), denoted either by column labels or column\n",
            "  indices.  If a sequence of labels or indices is given, :class:`~pandas.MultiIndex`\n",
            "  will be formed for the row labels.\n",
            "\n",
            "  Note: ``index_col=False`` can be used to force pandas to *not* use the first\n",
            "  column as the index, e.g., when you have a malformed file with delimiters at\n",
            "  the end of each line.\n",
            "usecols : Sequence of Hashable or Callable, optional\n",
            "    Subset of columns to select, denoted either by column labels or column indices.\n",
            "    If list-like, all elements must either\n",
            "    be positional (i.e. integer indices into the document columns) or strings\n",
            "    that correspond to column names provided either by the user in ``names`` or\n",
            "    inferred from the document header row(s). If ``names`` are given, the document\n",
            "    header row(s) are not taken into account. For example, a valid list-like\n",
            "    ``usecols`` parameter would be ``[0, 1, 2]`` or ``['foo', 'bar', 'baz']``.\n",
            "    Element order is ignored, so ``usecols=[0, 1]`` is the same as ``[1, 0]``.\n",
            "    To instantiate a :class:`~pandas.DataFrame` from ``data`` with element order\n",
            "    preserved use ``pd.read_csv(data, usecols=['foo', 'bar'])[['foo', 'bar']]``\n",
            "    for columns in ``['foo', 'bar']`` order or\n",
            "    ``pd.read_csv(data, usecols=['foo', 'bar'])[['bar', 'foo']]``\n",
            "    for ``['bar', 'foo']`` order.\n",
            "\n",
            "    If callable, the callable function will be evaluated against the column\n",
            "    names, returning names where the callable function evaluates to ``True``. An\n",
            "    example of a valid callable argument would be ``lambda x: x.upper() in\n",
            "    ['AAA', 'BBB', 'DDD']``. Using this parameter results in much faster\n",
            "    parsing time and lower memory usage.\n",
            "dtype : dtype or dict of {Hashable : dtype}, optional\n",
            "    Data type(s) to apply to either the whole dataset or individual columns.\n",
            "    E.g., ``{'a': np.float64, 'b': np.int32, 'c': 'Int64'}``\n",
            "    Use ``str`` or ``object`` together with suitable ``na_values`` settings\n",
            "    to preserve and not interpret ``dtype``.\n",
            "    If ``converters`` are specified, they will be applied INSTEAD\n",
            "    of ``dtype`` conversion.\n",
            "\n",
            "    .. versionadded:: 1.5.0\n",
            "\n",
            "        Support for ``defaultdict`` was added. Specify a ``defaultdict`` as input where\n",
            "        the default determines the ``dtype`` of the columns which are not explicitly\n",
            "        listed.\n",
            "engine : {'c', 'python', 'pyarrow'}, optional\n",
            "    Parser engine to use. The C and pyarrow engines are faster, while the python engine\n",
            "    is currently more feature-complete. Multithreading is currently only supported by\n",
            "    the pyarrow engine.\n",
            "\n",
            "    .. versionadded:: 1.4.0\n",
            "\n",
            "        The 'pyarrow' engine was added as an *experimental* engine, and some features\n",
            "        are unsupported, or may not work correctly, with this engine.\n",
            "converters : dict of {Hashable : Callable}, optional\n",
            "    Functions for converting values in specified columns. Keys can either\n",
            "    be column labels or column indices.\n",
            "true_values : list, optional\n",
            "    Values to consider as ``True`` in addition to case-insensitive variants of 'True'.\n",
            "false_values : list, optional\n",
            "    Values to consider as ``False`` in addition to case-insensitive variants of 'False'.\n",
            "skipinitialspace : bool, default False\n",
            "    Skip spaces after delimiter.\n",
            "skiprows : int, list of int or Callable, optional\n",
            "    Line numbers to skip (0-indexed) or number of lines to skip (``int``)\n",
            "    at the start of the file.\n",
            "\n",
            "    If callable, the callable function will be evaluated against the row\n",
            "    indices, returning ``True`` if the row should be skipped and ``False`` otherwise.\n",
            "    An example of a valid callable argument would be ``lambda x: x in [0, 2]``.\n",
            "skipfooter : int, default 0\n",
            "    Number of lines at bottom of file to skip (Unsupported with ``engine='c'``).\n",
            "nrows : int, optional\n",
            "    Number of rows of file to read. Useful for reading pieces of large files.\n",
            "na_values : Hashable, Iterable of Hashable or dict of {Hashable : Iterable}, optional\n",
            "    Additional strings to recognize as ``NA``/``NaN``. If ``dict`` passed, specific\n",
            "    per-column ``NA`` values.  By default the following values are interpreted as\n",
            "    ``NaN``: \" \", \"#N/A\", \"#N/A N/A\", \"#NA\", \"-1.#IND\", \"-1.#QNAN\", \"-NaN\", \"-nan\",\n",
            "    \"1.#IND\", \"1.#QNAN\", \"<NA>\", \"N/A\", \"NA\", \"NULL\", \"NaN\", \"None\",\n",
            "    \"n/a\", \"nan\", \"null \".\n",
            "\n",
            "keep_default_na : bool, default True\n",
            "    Whether or not to include the default ``NaN`` values when parsing the data.\n",
            "    Depending on whether ``na_values`` is passed in, the behavior is as follows:\n",
            "\n",
            "    * If ``keep_default_na`` is ``True``, and ``na_values`` are specified, ``na_values``\n",
            "      is appended to the default ``NaN`` values used for parsing.\n",
            "    * If ``keep_default_na`` is ``True``, and ``na_values`` are not specified, only\n",
            "      the default ``NaN`` values are used for parsing.\n",
            "    * If ``keep_default_na`` is ``False``, and ``na_values`` are specified, only\n",
            "      the ``NaN`` values specified ``na_values`` are used for parsing.\n",
            "    * If ``keep_default_na`` is ``False``, and ``na_values`` are not specified, no\n",
            "      strings will be parsed as ``NaN``.\n",
            "\n",
            "    Note that if ``na_filter`` is passed in as ``False``, the ``keep_default_na`` and\n",
            "    ``na_values`` parameters will be ignored.\n",
            "na_filter : bool, default True\n",
            "    Detect missing value markers (empty strings and the value of ``na_values``). In\n",
            "    data without any ``NA`` values, passing ``na_filter=False`` can improve the\n",
            "    performance of reading a large file.\n",
            "verbose : bool, default False\n",
            "    Indicate number of ``NA`` values placed in non-numeric columns.\n",
            "skip_blank_lines : bool, default True\n",
            "    If ``True``, skip over blank lines rather than interpreting as ``NaN`` values.\n",
            "parse_dates : bool, list of Hashable, list of lists or dict of {Hashable : list}, default False\n",
            "    The behavior is as follows:\n",
            "\n",
            "    * ``bool``. If ``True`` -> try parsing the index. Note: Automatically set to\n",
            "      ``True`` if ``date_format`` or ``date_parser`` arguments have been passed.\n",
            "    * ``list`` of ``int`` or names. e.g. If ``[1, 2, 3]`` -> try parsing columns 1, 2, 3\n",
            "      each as a separate date column.\n",
            "    * ``list`` of ``list``. e.g.  If ``[[1, 3]]`` -> combine columns 1 and 3 and parse\n",
            "      as a single date column. Values are joined with a space before parsing.\n",
            "    * ``dict``, e.g. ``{'foo' : [1, 3]}`` -> parse columns 1, 3 as date and call\n",
            "      result 'foo'. Values are joined with a space before parsing.\n",
            "\n",
            "    If a column or index cannot be represented as an array of ``datetime``,\n",
            "    say because of an unparsable value or a mixture of timezones, the column\n",
            "    or index will be returned unaltered as an ``object`` data type. For\n",
            "    non-standard ``datetime`` parsing, use :func:`~pandas.to_datetime` after\n",
            "    :func:`~pandas.read_csv`.\n",
            "\n",
            "    Note: A fast-path exists for iso8601-formatted dates.\n",
            "infer_datetime_format : bool, default False\n",
            "    If ``True`` and ``parse_dates`` is enabled, pandas will attempt to infer the\n",
            "    format of the ``datetime`` strings in the columns, and if it can be inferred,\n",
            "    switch to a faster method of parsing them. In some cases this can increase\n",
            "    the parsing speed by 5-10x.\n",
            "\n",
            "    .. deprecated:: 2.0.0\n",
            "        A strict version of this argument is now the default, passing it has no effect.\n",
            "\n",
            "keep_date_col : bool, default False\n",
            "    If ``True`` and ``parse_dates`` specifies combining multiple columns then\n",
            "    keep the original columns.\n",
            "date_parser : Callable, optional\n",
            "    Function to use for converting a sequence of string columns to an array of\n",
            "    ``datetime`` instances. The default uses ``dateutil.parser.parser`` to do the\n",
            "    conversion. pandas will try to call ``date_parser`` in three different ways,\n",
            "    advancing to the next if an exception occurs: 1) Pass one or more arrays\n",
            "    (as defined by ``parse_dates``) as arguments; 2) concatenate (row-wise) the\n",
            "    string values from the columns defined by ``parse_dates`` into a single array\n",
            "    and pass that; and 3) call ``date_parser`` once for each row using one or\n",
            "    more strings (corresponding to the columns defined by ``parse_dates``) as\n",
            "    arguments.\n",
            "\n",
            "    .. deprecated:: 2.0.0\n",
            "       Use ``date_format`` instead, or read in as ``object`` and then apply\n",
            "       :func:`~pandas.to_datetime` as-needed.\n",
            "date_format : str or dict of column -> format, optional\n",
            "    Format to use for parsing dates when used in conjunction with ``parse_dates``.\n",
            "    The strftime to parse time, e.g. :const:`\"%d/%m/%Y\"`. See\n",
            "    `strftime documentation\n",
            "    <https://docs.python.org/3/library/datetime.html\n",
            "    #strftime-and-strptime-behavior>`_ for more information on choices, though\n",
            "    note that :const:`\"%f\"` will parse all the way up to nanoseconds.\n",
            "    You can also pass:\n",
            "\n",
            "    - \"ISO8601\", to parse any `ISO8601 <https://en.wikipedia.org/wiki/ISO_8601>`_\n",
            "        time string (not necessarily in exactly the same format);\n",
            "    - \"mixed\", to infer the format for each element individually. This is risky,\n",
            "        and you should probably use it along with `dayfirst`.\n",
            "\n",
            "    .. versionadded:: 2.0.0\n",
            "dayfirst : bool, default False\n",
            "    DD/MM format dates, international and European format.\n",
            "cache_dates : bool, default True\n",
            "    If ``True``, use a cache of unique, converted dates to apply the ``datetime``\n",
            "    conversion. May produce significant speed-up when parsing duplicate\n",
            "    date strings, especially ones with timezone offsets.\n",
            "\n",
            "iterator : bool, default False\n",
            "    Return ``TextFileReader`` object for iteration or getting chunks with\n",
            "    ``get_chunk()``.\n",
            "chunksize : int, optional\n",
            "    Number of lines to read from the file per chunk. Passing a value will cause the\n",
            "    function to return a ``TextFileReader`` object for iteration.\n",
            "    See the `IO Tools docs\n",
            "    <https://pandas.pydata.org/pandas-docs/stable/io.html#io-chunking>`_\n",
            "    for more information on ``iterator`` and ``chunksize``.\n",
            "\n",
            "compression : str or dict, default 'infer'\n",
            "    For on-the-fly decompression of on-disk data. If 'infer' and 'filepath_or_buffer' is\n",
            "    path-like, then detect compression from the following extensions: '.gz',\n",
            "    '.bz2', '.zip', '.xz', '.zst', '.tar', '.tar.gz', '.tar.xz' or '.tar.bz2'\n",
            "    (otherwise no compression).\n",
            "    If using 'zip' or 'tar', the ZIP file must contain only one data file to be read in.\n",
            "    Set to ``None`` for no decompression.\n",
            "    Can also be a dict with key ``'method'`` set\n",
            "    to one of {``'zip'``, ``'gzip'``, ``'bz2'``, ``'zstd'``, ``'xz'``, ``'tar'``} and\n",
            "    other key-value pairs are forwarded to\n",
            "    ``zipfile.ZipFile``, ``gzip.GzipFile``,\n",
            "    ``bz2.BZ2File``, ``zstandard.ZstdDecompressor``, ``lzma.LZMAFile`` or\n",
            "    ``tarfile.TarFile``, respectively.\n",
            "    As an example, the following could be passed for Zstandard decompression using a\n",
            "    custom compression dictionary:\n",
            "    ``compression={'method': 'zstd', 'dict_data': my_compression_dict}``.\n",
            "\n",
            "    .. versionadded:: 1.5.0\n",
            "        Added support for `.tar` files.\n",
            "\n",
            "    .. versionchanged:: 1.4.0 Zstandard support.\n",
            "\n",
            "thousands : str (length 1), optional\n",
            "    Character acting as the thousands separator in numerical values.\n",
            "decimal : str (length 1), default '.'\n",
            "    Character to recognize as decimal point (e.g., use ',' for European data).\n",
            "lineterminator : str (length 1), optional\n",
            "    Character used to denote a line break. Only valid with C parser.\n",
            "quotechar : str (length 1), optional\n",
            "    Character used to denote the start and end of a quoted item. Quoted\n",
            "    items can include the ``delimiter`` and it will be ignored.\n",
            "quoting : {0 or csv.QUOTE_MINIMAL, 1 or csv.QUOTE_ALL, 2 or csv.QUOTE_NONNUMERIC, 3 or csv.QUOTE_NONE}, default csv.QUOTE_MINIMAL\n",
            "    Control field quoting behavior per ``csv.QUOTE_*`` constants. Default is\n",
            "    ``csv.QUOTE_MINIMAL`` (i.e., 0) which implies that only fields containing special\n",
            "    characters are quoted (e.g., characters defined in ``quotechar``, ``delimiter``,\n",
            "    or ``lineterminator``.\n",
            "doublequote : bool, default True\n",
            "   When ``quotechar`` is specified and ``quoting`` is not ``QUOTE_NONE``, indicate\n",
            "   whether or not to interpret two consecutive ``quotechar`` elements INSIDE a\n",
            "   field as a single ``quotechar`` element.\n",
            "escapechar : str (length 1), optional\n",
            "    Character used to escape other characters.\n",
            "comment : str (length 1), optional\n",
            "    Character indicating that the remainder of line should not be parsed.\n",
            "    If found at the beginning\n",
            "    of a line, the line will be ignored altogether. This parameter must be a\n",
            "    single character. Like empty lines (as long as ``skip_blank_lines=True``),\n",
            "    fully commented lines are ignored by the parameter ``header`` but not by\n",
            "    ``skiprows``. For example, if ``comment='#'``, parsing\n",
            "    ``#empty\\na,b,c\\n1,2,3`` with ``header=0`` will result in ``'a,b,c'`` being\n",
            "    treated as the header.\n",
            "encoding : str, optional, default 'utf-8'\n",
            "    Encoding to use for UTF when reading/writing (ex. ``'utf-8'``). `List of Python\n",
            "    standard encodings\n",
            "    <https://docs.python.org/3/library/codecs.html#standard-encodings>`_ .\n",
            "\n",
            "encoding_errors : str, optional, default 'strict'\n",
            "    How encoding errors are treated. `List of possible values\n",
            "    <https://docs.python.org/3/library/codecs.html#error-handlers>`_ .\n",
            "\n",
            "    .. versionadded:: 1.3.0\n",
            "\n",
            "dialect : str or csv.Dialect, optional\n",
            "    If provided, this parameter will override values (default or not) for the\n",
            "    following parameters: ``delimiter``, ``doublequote``, ``escapechar``,\n",
            "    ``skipinitialspace``, ``quotechar``, and ``quoting``. If it is necessary to\n",
            "    override values, a ``ParserWarning`` will be issued. See ``csv.Dialect``\n",
            "    documentation for more details.\n",
            "on_bad_lines : {'error', 'warn', 'skip'} or Callable, default 'error'\n",
            "    Specifies what to do upon encountering a bad line (a line with too many fields).\n",
            "    Allowed values are :\n",
            "\n",
            "    - ``'error'``, raise an Exception when a bad line is encountered.\n",
            "    - ``'warn'``, raise a warning when a bad line is encountered and skip that line.\n",
            "    - ``'skip'``, skip bad lines without raising or warning when they are encountered.\n",
            "\n",
            "    .. versionadded:: 1.3.0\n",
            "\n",
            "    .. versionadded:: 1.4.0\n",
            "\n",
            "        - Callable, function with signature\n",
            "          ``(bad_line: list[str]) -> list[str] | None`` that will process a single\n",
            "          bad line. ``bad_line`` is a list of strings split by the ``sep``.\n",
            "          If the function returns ``None``, the bad line will be ignored.\n",
            "          If the function returns a new ``list`` of strings with more elements than\n",
            "          expected, a ``ParserWarning`` will be emitted while dropping extra elements.\n",
            "          Only supported when ``engine='python'``\n",
            "\n",
            "    .. versionchanged:: 2.2.0\n",
            "\n",
            "        - Callable, function with signature\n",
            "          as described in `pyarrow documentation\n",
            "          <https://arrow.apache.org/docs/python/generated/pyarrow.csv.ParseOptions.html\n",
            "          #pyarrow.csv.ParseOptions.invalid_row_handler>`_ when ``engine='pyarrow'``\n",
            "\n",
            "delim_whitespace : bool, default False\n",
            "    Specifies whether or not whitespace (e.g. ``' '`` or ``'\\t'``) will be\n",
            "    used as the ``sep`` delimiter. Equivalent to setting ``sep='\\s+'``. If this option\n",
            "    is set to ``True``, nothing should be passed in for the ``delimiter``\n",
            "    parameter.\n",
            "\n",
            "    .. deprecated:: 2.2.0\n",
            "        Use ``sep=\"\\s+\"`` instead.\n",
            "low_memory : bool, default True\n",
            "    Internally process the file in chunks, resulting in lower memory use\n",
            "    while parsing, but possibly mixed type inference.  To ensure no mixed\n",
            "    types either set ``False``, or specify the type with the ``dtype`` parameter.\n",
            "    Note that the entire file is read into a single :class:`~pandas.DataFrame`\n",
            "    regardless, use the ``chunksize`` or ``iterator`` parameter to return the data in\n",
            "    chunks. (Only valid with C parser).\n",
            "memory_map : bool, default False\n",
            "    If a filepath is provided for ``filepath_or_buffer``, map the file object\n",
            "    directly onto memory and access the data directly from there. Using this\n",
            "    option can improve performance because there is no longer any I/O overhead.\n",
            "float_precision : {'high', 'legacy', 'round_trip'}, optional\n",
            "    Specifies which converter the C engine should use for floating-point\n",
            "    values. The options are ``None`` or ``'high'`` for the ordinary converter,\n",
            "    ``'legacy'`` for the original lower precision pandas converter, and\n",
            "    ``'round_trip'`` for the round-trip converter.\n",
            "\n",
            "storage_options : dict, optional\n",
            "    Extra options that make sense for a particular storage connection, e.g.\n",
            "    host, port, username, password, etc. For HTTP(S) URLs the key-value pairs\n",
            "    are forwarded to ``urllib.request.Request`` as header options. For other\n",
            "    URLs (e.g. starting with \"s3://\", and \"gcs://\") the key-value pairs are\n",
            "    forwarded to ``fsspec.open``. Please see ``fsspec`` and ``urllib`` for more\n",
            "    details, and for more examples on storage options refer `here\n",
            "    <https://pandas.pydata.org/docs/user_guide/io.html?\n",
            "    highlight=storage_options#reading-writing-remote-files>`_.\n",
            "\n",
            "dtype_backend : {'numpy_nullable', 'pyarrow'}, default 'numpy_nullable'\n",
            "    Back-end data type applied to the resultant :class:`DataFrame`\n",
            "    (still experimental). Behaviour is as follows:\n",
            "\n",
            "    * ``\"numpy_nullable\"``: returns nullable-dtype-backed :class:`DataFrame`\n",
            "      (default).\n",
            "    * ``\"pyarrow\"``: returns pyarrow-backed nullable :class:`ArrowDtype`\n",
            "      DataFrame.\n",
            "\n",
            "    .. versionadded:: 2.0\n",
            "\n",
            "Returns\n",
            "-------\n",
            "DataFrame or TextFileReader\n",
            "    A comma-separated values (csv) file is returned as two-dimensional\n",
            "    data structure with labeled axes.\n",
            "\n",
            "See Also\n",
            "--------\n",
            "DataFrame.to_csv : Write DataFrame to a comma-separated values (csv) file.\n",
            "read_csv : Read a comma-separated values (csv) file into DataFrame.\n",
            "read_fwf : Read a table of fixed-width formatted lines into DataFrame.\n",
            "\n",
            "Examples\n",
            "--------\n",
            ">>> pd.read_table('data.csv')  # doctest: +SKIP\n",
            "\u001b[1;31mFile:\u001b[0m      c:\\users\\emmaf\\appdata\\local\\programs\\python\\python312\\lib\\site-packages\\pandas\\io\\parsers\\readers.py\n",
            "\u001b[1;31mType:\u001b[0m      function"
          ]
        }
      ],
      "source": [
        "## Help on read_table method\n",
        "pd.read_table?"
      ]
    },
    {
      "cell_type": "code",
      "execution_count": 21,
      "metadata": {
        "colab": {},
        "colab_type": "code",
        "id": "qPSmTIZj8xn6"
      },
      "outputs": [],
      "source": [
        "# Let us read data on movie users. It is seperated by a pipe |\n",
        "users = pd.read_table('http://bit.ly/movieusers')"
      ]
    },
    {
      "cell_type": "code",
      "execution_count": 22,
      "metadata": {
        "colab": {
          "base_uri": "https://localhost:8080/",
          "height": 204
        },
        "colab_type": "code",
        "id": "MSX1sfho86VQ",
        "outputId": "2f019aea-efab-4080-e92c-61f97ff3bb63"
      },
      "outputs": [
        {
          "data": {
            "text/html": [
              "<div>\n",
              "<style scoped>\n",
              "    .dataframe tbody tr th:only-of-type {\n",
              "        vertical-align: middle;\n",
              "    }\n",
              "\n",
              "    .dataframe tbody tr th {\n",
              "        vertical-align: top;\n",
              "    }\n",
              "\n",
              "    .dataframe thead th {\n",
              "        text-align: right;\n",
              "    }\n",
              "</style>\n",
              "<table border=\"1\" class=\"dataframe\">\n",
              "  <thead>\n",
              "    <tr style=\"text-align: right;\">\n",
              "      <th></th>\n",
              "      <th>1|24|M|technician|85711</th>\n",
              "    </tr>\n",
              "  </thead>\n",
              "  <tbody>\n",
              "    <tr>\n",
              "      <th>0</th>\n",
              "      <td>2|53|F|other|94043</td>\n",
              "    </tr>\n",
              "    <tr>\n",
              "      <th>1</th>\n",
              "      <td>3|23|M|writer|32067</td>\n",
              "    </tr>\n",
              "    <tr>\n",
              "      <th>2</th>\n",
              "      <td>4|24|M|technician|43537</td>\n",
              "    </tr>\n",
              "    <tr>\n",
              "      <th>3</th>\n",
              "      <td>5|33|F|other|15213</td>\n",
              "    </tr>\n",
              "    <tr>\n",
              "      <th>4</th>\n",
              "      <td>6|42|M|executive|98101</td>\n",
              "    </tr>\n",
              "  </tbody>\n",
              "</table>\n",
              "</div>"
            ],
            "text/plain": [
              "   1|24|M|technician|85711\n",
              "0       2|53|F|other|94043\n",
              "1      3|23|M|writer|32067\n",
              "2  4|24|M|technician|43537\n",
              "3       5|33|F|other|15213\n",
              "4   6|42|M|executive|98101"
            ]
          },
          "execution_count": 22,
          "metadata": {
            "tags": []
          },
          "output_type": "execute_result"
        }
      ],
      "source": [
        "users.head()"
      ]
    },
    {
      "cell_type": "code",
      "execution_count": 23,
      "metadata": {
        "colab": {
          "base_uri": "https://localhost:8080/",
          "height": 204
        },
        "colab_type": "code",
        "id": "JqDV8Dxu9Dh9",
        "outputId": "3d2579ce-7858-444a-eee0-72c925fc3b7b"
      },
      "outputs": [
        {
          "data": {
            "text/html": [
              "<div>\n",
              "<style scoped>\n",
              "    .dataframe tbody tr th:only-of-type {\n",
              "        vertical-align: middle;\n",
              "    }\n",
              "\n",
              "    .dataframe tbody tr th {\n",
              "        vertical-align: top;\n",
              "    }\n",
              "\n",
              "    .dataframe thead th {\n",
              "        text-align: right;\n",
              "    }\n",
              "</style>\n",
              "<table border=\"1\" class=\"dataframe\">\n",
              "  <thead>\n",
              "    <tr style=\"text-align: right;\">\n",
              "      <th></th>\n",
              "      <th>1</th>\n",
              "      <th>24</th>\n",
              "      <th>M</th>\n",
              "      <th>technician</th>\n",
              "      <th>85711</th>\n",
              "    </tr>\n",
              "  </thead>\n",
              "  <tbody>\n",
              "    <tr>\n",
              "      <th>0</th>\n",
              "      <td>2</td>\n",
              "      <td>53</td>\n",
              "      <td>F</td>\n",
              "      <td>other</td>\n",
              "      <td>94043</td>\n",
              "    </tr>\n",
              "    <tr>\n",
              "      <th>1</th>\n",
              "      <td>3</td>\n",
              "      <td>23</td>\n",
              "      <td>M</td>\n",
              "      <td>writer</td>\n",
              "      <td>32067</td>\n",
              "    </tr>\n",
              "    <tr>\n",
              "      <th>2</th>\n",
              "      <td>4</td>\n",
              "      <td>24</td>\n",
              "      <td>M</td>\n",
              "      <td>technician</td>\n",
              "      <td>43537</td>\n",
              "    </tr>\n",
              "    <tr>\n",
              "      <th>3</th>\n",
              "      <td>5</td>\n",
              "      <td>33</td>\n",
              "      <td>F</td>\n",
              "      <td>other</td>\n",
              "      <td>15213</td>\n",
              "    </tr>\n",
              "    <tr>\n",
              "      <th>4</th>\n",
              "      <td>6</td>\n",
              "      <td>42</td>\n",
              "      <td>M</td>\n",
              "      <td>executive</td>\n",
              "      <td>98101</td>\n",
              "    </tr>\n",
              "  </tbody>\n",
              "</table>\n",
              "</div>"
            ],
            "text/plain": [
              "   1  24  M  technician  85711\n",
              "0  2  53  F       other  94043\n",
              "1  3  23  M      writer  32067\n",
              "2  4  24  M  technician  43537\n",
              "3  5  33  F       other  15213\n",
              "4  6  42  M   executive  98101"
            ]
          },
          "execution_count": 23,
          "metadata": {
            "tags": []
          },
          "output_type": "execute_result"
        }
      ],
      "source": [
        "# The first row is read as column names\n",
        "users = pd.read_table('http://bit.ly/movieusers', sep='|')\n",
        "users.head()"
      ]
    },
    {
      "cell_type": "code",
      "execution_count": 24,
      "metadata": {
        "colab": {
          "base_uri": "https://localhost:8080/",
          "height": 204
        },
        "colab_type": "code",
        "id": "FUVroaEN9K6N",
        "outputId": "c94b6c75-8c92-422a-8cac-e5b03d3a87a7"
      },
      "outputs": [
        {
          "data": {
            "text/html": [
              "<div>\n",
              "<style scoped>\n",
              "    .dataframe tbody tr th:only-of-type {\n",
              "        vertical-align: middle;\n",
              "    }\n",
              "\n",
              "    .dataframe tbody tr th {\n",
              "        vertical-align: top;\n",
              "    }\n",
              "\n",
              "    .dataframe thead th {\n",
              "        text-align: right;\n",
              "    }\n",
              "</style>\n",
              "<table border=\"1\" class=\"dataframe\">\n",
              "  <thead>\n",
              "    <tr style=\"text-align: right;\">\n",
              "      <th></th>\n",
              "      <th>0</th>\n",
              "      <th>1</th>\n",
              "      <th>2</th>\n",
              "      <th>3</th>\n",
              "      <th>4</th>\n",
              "    </tr>\n",
              "  </thead>\n",
              "  <tbody>\n",
              "    <tr>\n",
              "      <th>0</th>\n",
              "      <td>1</td>\n",
              "      <td>24</td>\n",
              "      <td>M</td>\n",
              "      <td>technician</td>\n",
              "      <td>85711</td>\n",
              "    </tr>\n",
              "    <tr>\n",
              "      <th>1</th>\n",
              "      <td>2</td>\n",
              "      <td>53</td>\n",
              "      <td>F</td>\n",
              "      <td>other</td>\n",
              "      <td>94043</td>\n",
              "    </tr>\n",
              "    <tr>\n",
              "      <th>2</th>\n",
              "      <td>3</td>\n",
              "      <td>23</td>\n",
              "      <td>M</td>\n",
              "      <td>writer</td>\n",
              "      <td>32067</td>\n",
              "    </tr>\n",
              "    <tr>\n",
              "      <th>3</th>\n",
              "      <td>4</td>\n",
              "      <td>24</td>\n",
              "      <td>M</td>\n",
              "      <td>technician</td>\n",
              "      <td>43537</td>\n",
              "    </tr>\n",
              "    <tr>\n",
              "      <th>4</th>\n",
              "      <td>5</td>\n",
              "      <td>33</td>\n",
              "      <td>F</td>\n",
              "      <td>other</td>\n",
              "      <td>15213</td>\n",
              "    </tr>\n",
              "  </tbody>\n",
              "</table>\n",
              "</div>"
            ],
            "text/plain": [
              "   0   1  2           3      4\n",
              "0  1  24  M  technician  85711\n",
              "1  2  53  F       other  94043\n",
              "2  3  23  M      writer  32067\n",
              "3  4  24  M  technician  43537\n",
              "4  5  33  F       other  15213"
            ]
          },
          "execution_count": 24,
          "metadata": {
            "tags": []
          },
          "output_type": "execute_result"
        }
      ],
      "source": [
        "users = pd.read_table('http://bit.ly/movieusers', sep='|', header=None)\n",
        "users.head()"
      ]
    },
    {
      "cell_type": "code",
      "execution_count": 25,
      "metadata": {
        "colab": {
          "base_uri": "https://localhost:8080/",
          "height": 204
        },
        "colab_type": "code",
        "id": "6BfILRWF9bZA",
        "outputId": "1b3274b0-b301-4a3a-bda7-05ebf59650d8"
      },
      "outputs": [
        {
          "data": {
            "text/html": [
              "<div>\n",
              "<style scoped>\n",
              "    .dataframe tbody tr th:only-of-type {\n",
              "        vertical-align: middle;\n",
              "    }\n",
              "\n",
              "    .dataframe tbody tr th {\n",
              "        vertical-align: top;\n",
              "    }\n",
              "\n",
              "    .dataframe thead th {\n",
              "        text-align: right;\n",
              "    }\n",
              "</style>\n",
              "<table border=\"1\" class=\"dataframe\">\n",
              "  <thead>\n",
              "    <tr style=\"text-align: right;\">\n",
              "      <th></th>\n",
              "      <th>user_id</th>\n",
              "      <th>age</th>\n",
              "      <th>gender</th>\n",
              "      <th>occupation</th>\n",
              "      <th>zip_code</th>\n",
              "    </tr>\n",
              "  </thead>\n",
              "  <tbody>\n",
              "    <tr>\n",
              "      <th>0</th>\n",
              "      <td>1</td>\n",
              "      <td>24</td>\n",
              "      <td>M</td>\n",
              "      <td>technician</td>\n",
              "      <td>85711</td>\n",
              "    </tr>\n",
              "    <tr>\n",
              "      <th>1</th>\n",
              "      <td>2</td>\n",
              "      <td>53</td>\n",
              "      <td>F</td>\n",
              "      <td>other</td>\n",
              "      <td>94043</td>\n",
              "    </tr>\n",
              "    <tr>\n",
              "      <th>2</th>\n",
              "      <td>3</td>\n",
              "      <td>23</td>\n",
              "      <td>M</td>\n",
              "      <td>writer</td>\n",
              "      <td>32067</td>\n",
              "    </tr>\n",
              "    <tr>\n",
              "      <th>3</th>\n",
              "      <td>4</td>\n",
              "      <td>24</td>\n",
              "      <td>M</td>\n",
              "      <td>technician</td>\n",
              "      <td>43537</td>\n",
              "    </tr>\n",
              "    <tr>\n",
              "      <th>4</th>\n",
              "      <td>5</td>\n",
              "      <td>33</td>\n",
              "      <td>F</td>\n",
              "      <td>other</td>\n",
              "      <td>15213</td>\n",
              "    </tr>\n",
              "  </tbody>\n",
              "</table>\n",
              "</div>"
            ],
            "text/plain": [
              "   user_id  age gender  occupation zip_code\n",
              "0        1   24      M  technician    85711\n",
              "1        2   53      F       other    94043\n",
              "2        3   23      M      writer    32067\n",
              "3        4   24      M  technician    43537\n",
              "4        5   33      F       other    15213"
            ]
          },
          "execution_count": 25,
          "metadata": {
            "tags": []
          },
          "output_type": "execute_result"
        }
      ],
      "source": [
        "user_cols = ['user_id', 'age', 'gender', 'occupation', 'zip_code']\n",
        "users = pd.read_table('http://bit.ly/movieusers', sep='|', header=None, names=user_cols)\n",
        "users.head()"
      ]
    },
    {
      "cell_type": "code",
      "execution_count": 26,
      "metadata": {
        "colab": {
          "base_uri": "https://localhost:8080/",
          "height": 221
        },
        "colab_type": "code",
        "id": "n-6yW83i9hKP",
        "outputId": "fb0daa8e-c52d-4039-999b-1f9c65d1c2fe"
      },
      "outputs": [
        {
          "data": {
            "text/plain": [
              "0         technician\n",
              "1              other\n",
              "2             writer\n",
              "3         technician\n",
              "4              other\n",
              "           ...      \n",
              "938          student\n",
              "939    administrator\n",
              "940          student\n",
              "941        librarian\n",
              "942          student\n",
              "Name: occupation, Length: 943, dtype: object"
            ]
          },
          "execution_count": 26,
          "metadata": {
            "tags": []
          },
          "output_type": "execute_result"
        }
      ],
      "source": [
        "users['occupation']"
      ]
    },
    {
      "cell_type": "code",
      "execution_count": 27,
      "metadata": {
        "colab": {
          "base_uri": "https://localhost:8080/",
          "height": 221
        },
        "colab_type": "code",
        "id": "8a4BVbMu9sTD",
        "outputId": "2a381130-3d30-4d21-eec6-64b6e9efc98b"
      },
      "outputs": [
        {
          "data": {
            "text/plain": [
              "0         technician\n",
              "1              other\n",
              "2             writer\n",
              "3         technician\n",
              "4              other\n",
              "           ...      \n",
              "938          student\n",
              "939    administrator\n",
              "940          student\n",
              "941        librarian\n",
              "942          student\n",
              "Name: occupation, Length: 943, dtype: object"
            ]
          },
          "execution_count": 27,
          "metadata": {
            "tags": []
          },
          "output_type": "execute_result"
        }
      ],
      "source": [
        "users.occupation"
      ]
    },
    {
      "cell_type": "code",
      "execution_count": 28,
      "metadata": {
        "colab": {
          "base_uri": "https://localhost:8080/",
          "height": 34
        },
        "colab_type": "code",
        "id": "wwT9jF979yGK",
        "outputId": "18b04db4-2c02-49f2-cb4e-1a1d22c09099"
      },
      "outputs": [
        {
          "data": {
            "text/plain": [
              "(943, 5)"
            ]
          },
          "execution_count": 28,
          "metadata": {
            "tags": []
          },
          "output_type": "execute_result"
        }
      ],
      "source": [
        "users.shape # attributes have no parenthesis"
      ]
    },
    {
      "cell_type": "code",
      "execution_count": 29,
      "metadata": {
        "colab": {
          "base_uri": "https://localhost:8080/",
          "height": 119
        },
        "colab_type": "code",
        "id": "fDhqwXon92dV",
        "outputId": "48c2eb85-4617-4fd9-9fc9-e57598e56988"
      },
      "outputs": [
        {
          "data": {
            "text/plain": [
              "user_id        int64\n",
              "age            int64\n",
              "gender        object\n",
              "occupation    object\n",
              "zip_code      object\n",
              "dtype: object"
            ]
          },
          "execution_count": 29,
          "metadata": {
            "tags": []
          },
          "output_type": "execute_result"
        }
      ],
      "source": [
        "users.dtypes"
      ]
    },
    {
      "cell_type": "code",
      "execution_count": 30,
      "metadata": {
        "colab": {
          "base_uri": "https://localhost:8080/",
          "height": 297
        },
        "colab_type": "code",
        "id": "XO1RhRP0966Y",
        "outputId": "c73e4717-837a-4585-8309-f195cc75f206"
      },
      "outputs": [
        {
          "data": {
            "text/html": [
              "<div>\n",
              "<style scoped>\n",
              "    .dataframe tbody tr th:only-of-type {\n",
              "        vertical-align: middle;\n",
              "    }\n",
              "\n",
              "    .dataframe tbody tr th {\n",
              "        vertical-align: top;\n",
              "    }\n",
              "\n",
              "    .dataframe thead th {\n",
              "        text-align: right;\n",
              "    }\n",
              "</style>\n",
              "<table border=\"1\" class=\"dataframe\">\n",
              "  <thead>\n",
              "    <tr style=\"text-align: right;\">\n",
              "      <th></th>\n",
              "      <th>user_id</th>\n",
              "      <th>age</th>\n",
              "    </tr>\n",
              "  </thead>\n",
              "  <tbody>\n",
              "    <tr>\n",
              "      <th>count</th>\n",
              "      <td>943.000000</td>\n",
              "      <td>943.000000</td>\n",
              "    </tr>\n",
              "    <tr>\n",
              "      <th>mean</th>\n",
              "      <td>472.000000</td>\n",
              "      <td>34.051962</td>\n",
              "    </tr>\n",
              "    <tr>\n",
              "      <th>std</th>\n",
              "      <td>272.364951</td>\n",
              "      <td>12.192740</td>\n",
              "    </tr>\n",
              "    <tr>\n",
              "      <th>min</th>\n",
              "      <td>1.000000</td>\n",
              "      <td>7.000000</td>\n",
              "    </tr>\n",
              "    <tr>\n",
              "      <th>25%</th>\n",
              "      <td>236.500000</td>\n",
              "      <td>25.000000</td>\n",
              "    </tr>\n",
              "    <tr>\n",
              "      <th>50%</th>\n",
              "      <td>472.000000</td>\n",
              "      <td>31.000000</td>\n",
              "    </tr>\n",
              "    <tr>\n",
              "      <th>75%</th>\n",
              "      <td>707.500000</td>\n",
              "      <td>43.000000</td>\n",
              "    </tr>\n",
              "    <tr>\n",
              "      <th>max</th>\n",
              "      <td>943.000000</td>\n",
              "      <td>73.000000</td>\n",
              "    </tr>\n",
              "  </tbody>\n",
              "</table>\n",
              "</div>"
            ],
            "text/plain": [
              "          user_id         age\n",
              "count  943.000000  943.000000\n",
              "mean   472.000000   34.051962\n",
              "std    272.364951   12.192740\n",
              "min      1.000000    7.000000\n",
              "25%    236.500000   25.000000\n",
              "50%    472.000000   31.000000\n",
              "75%    707.500000   43.000000\n",
              "max    943.000000   73.000000"
            ]
          },
          "execution_count": 30,
          "metadata": {
            "tags": []
          },
          "output_type": "execute_result"
        }
      ],
      "source": [
        "users.describe()"
      ]
    },
    {
      "cell_type": "code",
      "execution_count": 31,
      "metadata": {
        "colab": {
          "base_uri": "https://localhost:8080/",
          "height": 390
        },
        "colab_type": "code",
        "id": "Tm31oxOP-cTD",
        "outputId": "67f25696-b4e5-4422-d853-75858edc0403"
      },
      "outputs": [
        {
          "data": {
            "text/html": [
              "<div>\n",
              "<style scoped>\n",
              "    .dataframe tbody tr th:only-of-type {\n",
              "        vertical-align: middle;\n",
              "    }\n",
              "\n",
              "    .dataframe tbody tr th {\n",
              "        vertical-align: top;\n",
              "    }\n",
              "\n",
              "    .dataframe thead th {\n",
              "        text-align: right;\n",
              "    }\n",
              "</style>\n",
              "<table border=\"1\" class=\"dataframe\">\n",
              "  <thead>\n",
              "    <tr style=\"text-align: right;\">\n",
              "      <th></th>\n",
              "      <th>user_id</th>\n",
              "      <th>age</th>\n",
              "      <th>gender</th>\n",
              "      <th>occupation</th>\n",
              "      <th>zip_code</th>\n",
              "    </tr>\n",
              "  </thead>\n",
              "  <tbody>\n",
              "    <tr>\n",
              "      <th>count</th>\n",
              "      <td>943.000000</td>\n",
              "      <td>943.000000</td>\n",
              "      <td>943</td>\n",
              "      <td>943</td>\n",
              "      <td>943</td>\n",
              "    </tr>\n",
              "    <tr>\n",
              "      <th>unique</th>\n",
              "      <td>NaN</td>\n",
              "      <td>NaN</td>\n",
              "      <td>2</td>\n",
              "      <td>21</td>\n",
              "      <td>795</td>\n",
              "    </tr>\n",
              "    <tr>\n",
              "      <th>top</th>\n",
              "      <td>NaN</td>\n",
              "      <td>NaN</td>\n",
              "      <td>M</td>\n",
              "      <td>student</td>\n",
              "      <td>55414</td>\n",
              "    </tr>\n",
              "    <tr>\n",
              "      <th>freq</th>\n",
              "      <td>NaN</td>\n",
              "      <td>NaN</td>\n",
              "      <td>670</td>\n",
              "      <td>196</td>\n",
              "      <td>9</td>\n",
              "    </tr>\n",
              "    <tr>\n",
              "      <th>mean</th>\n",
              "      <td>472.000000</td>\n",
              "      <td>34.051962</td>\n",
              "      <td>NaN</td>\n",
              "      <td>NaN</td>\n",
              "      <td>NaN</td>\n",
              "    </tr>\n",
              "    <tr>\n",
              "      <th>std</th>\n",
              "      <td>272.364951</td>\n",
              "      <td>12.192740</td>\n",
              "      <td>NaN</td>\n",
              "      <td>NaN</td>\n",
              "      <td>NaN</td>\n",
              "    </tr>\n",
              "    <tr>\n",
              "      <th>min</th>\n",
              "      <td>1.000000</td>\n",
              "      <td>7.000000</td>\n",
              "      <td>NaN</td>\n",
              "      <td>NaN</td>\n",
              "      <td>NaN</td>\n",
              "    </tr>\n",
              "    <tr>\n",
              "      <th>25%</th>\n",
              "      <td>236.500000</td>\n",
              "      <td>25.000000</td>\n",
              "      <td>NaN</td>\n",
              "      <td>NaN</td>\n",
              "      <td>NaN</td>\n",
              "    </tr>\n",
              "    <tr>\n",
              "      <th>50%</th>\n",
              "      <td>472.000000</td>\n",
              "      <td>31.000000</td>\n",
              "      <td>NaN</td>\n",
              "      <td>NaN</td>\n",
              "      <td>NaN</td>\n",
              "    </tr>\n",
              "    <tr>\n",
              "      <th>75%</th>\n",
              "      <td>707.500000</td>\n",
              "      <td>43.000000</td>\n",
              "      <td>NaN</td>\n",
              "      <td>NaN</td>\n",
              "      <td>NaN</td>\n",
              "    </tr>\n",
              "    <tr>\n",
              "      <th>max</th>\n",
              "      <td>943.000000</td>\n",
              "      <td>73.000000</td>\n",
              "      <td>NaN</td>\n",
              "      <td>NaN</td>\n",
              "      <td>NaN</td>\n",
              "    </tr>\n",
              "  </tbody>\n",
              "</table>\n",
              "</div>"
            ],
            "text/plain": [
              "           user_id         age gender occupation zip_code\n",
              "count   943.000000  943.000000    943        943      943\n",
              "unique         NaN         NaN      2         21      795\n",
              "top            NaN         NaN      M    student    55414\n",
              "freq           NaN         NaN    670        196        9\n",
              "mean    472.000000   34.051962    NaN        NaN      NaN\n",
              "std     272.364951   12.192740    NaN        NaN      NaN\n",
              "min       1.000000    7.000000    NaN        NaN      NaN\n",
              "25%     236.500000   25.000000    NaN        NaN      NaN\n",
              "50%     472.000000   31.000000    NaN        NaN      NaN\n",
              "75%     707.500000   43.000000    NaN        NaN      NaN\n",
              "max     943.000000   73.000000    NaN        NaN      NaN"
            ]
          },
          "execution_count": 31,
          "metadata": {
            "tags": []
          },
          "output_type": "execute_result"
        }
      ],
      "source": [
        "users.describe(include='all')"
      ]
    },
    {
      "cell_type": "code",
      "execution_count": 32,
      "metadata": {
        "colab": {},
        "colab_type": "code",
        "id": "28RsTI1q-l8s"
      },
      "outputs": [],
      "source": [
        "# UFO reports data seperated by comma\n",
        "ufo = pd.read_table('http://bit.ly/uforeports', sep=',')\n",
        "\n",
        "# read_csv has default comma as seperator\n",
        "ufo = pd.read_csv('http://bit.ly/uforeports')"
      ]
    },
    {
      "cell_type": "code",
      "execution_count": 33,
      "metadata": {
        "colab": {
          "base_uri": "https://localhost:8080/",
          "height": 34
        },
        "colab_type": "code",
        "id": "rpe2VU_N-tZk",
        "outputId": "68c961b3-a241-454d-9f31-ea9588d9b65c"
      },
      "outputs": [
        {
          "data": {
            "text/plain": [
              "(18241, 6)"
            ]
          },
          "execution_count": 33,
          "metadata": {
            "tags": []
          },
          "output_type": "execute_result"
        }
      ],
      "source": [
        "# ufo.Location = ufo.City + ', ' + ufo.State will not work\n",
        "\n",
        "# You have to use bracket notation to define the Series name)\n",
        "ufo['Location'] = ufo.City + ', ' + ufo.State\n",
        "ufo.shape"
      ]
    },
    {
      "cell_type": "code",
      "execution_count": 34,
      "metadata": {
        "colab": {
          "base_uri": "https://localhost:8080/",
          "height": 102
        },
        "colab_type": "code",
        "id": "cDlC-TxN-zwx",
        "outputId": "da14199d-5ec8-4fd7-faa5-8bf2a5804867"
      },
      "outputs": [
        {
          "data": {
            "text/plain": [
              "array(['TRIANGLE', 'OTHER', 'OVAL', 'DISK', 'LIGHT', 'CIRCLE', 'CIGAR',\n",
              "       'CYLINDER', 'FIREBALL', 'SPHERE', nan, 'RECTANGLE', 'FORMATION',\n",
              "       'FLASH', 'CHEVRON', 'EGG', 'CONE', 'DIAMOND', 'VARIOUS',\n",
              "       'TEARDROP', 'CROSS', 'DELTA', 'ROUND', 'DOME', 'PYRAMID',\n",
              "       'CRESCENT', 'FLARE', 'HEXAGON'], dtype=object)"
            ]
          },
          "execution_count": 34,
          "metadata": {
            "tags": []
          },
          "output_type": "execute_result"
        }
      ],
      "source": [
        "ufo[\"Shape Reported\"].unique()"
      ]
    },
    {
      "cell_type": "code",
      "execution_count": 35,
      "metadata": {
        "colab": {
          "base_uri": "https://localhost:8080/",
          "height": 493
        },
        "colab_type": "code",
        "id": "8KfWkyFs-6Gm",
        "outputId": "5de52037-8cd2-488c-b105-5be6a3ee24cc"
      },
      "outputs": [
        {
          "data": {
            "text/plain": [
              "LIGHT        2803\n",
              "DISK         2122\n",
              "TRIANGLE     1889\n",
              "OTHER        1402\n",
              "CIRCLE       1365\n",
              "SPHERE       1054\n",
              "FIREBALL     1039\n",
              "OVAL          845\n",
              "CIGAR         617\n",
              "FORMATION     434\n",
              "VARIOUS       333\n",
              "RECTANGLE     303\n",
              "CYLINDER      294\n",
              "CHEVRON       248\n",
              "DIAMOND       234\n",
              "EGG           197\n",
              "FLASH         188\n",
              "TEARDROP      119\n",
              "CONE           60\n",
              "CROSS          36\n",
              "DELTA           7\n",
              "CRESCENT        2\n",
              "ROUND           2\n",
              "FLARE           1\n",
              "PYRAMID         1\n",
              "DOME            1\n",
              "HEXAGON         1\n",
              "Name: Shape Reported, dtype: int64"
            ]
          },
          "execution_count": 35,
          "metadata": {
            "tags": []
          },
          "output_type": "execute_result"
        }
      ],
      "source": [
        "ufo[\"Shape Reported\"].value_counts()"
      ]
    },
    {
      "cell_type": "markdown",
      "metadata": {
        "colab_type": "text",
        "id": "WXOT8_TZBUoG"
      },
      "source": [
        "### Missing Values"
      ]
    },
    {
      "cell_type": "code",
      "execution_count": 36,
      "metadata": {
        "colab": {
          "base_uri": "https://localhost:8080/",
          "height": 34
        },
        "colab_type": "code",
        "id": "YvnYioiVBc6-",
        "outputId": "2b71196d-51e9-4a61-a48a-3da4e790de4d"
      },
      "outputs": [
        {
          "data": {
            "text/plain": [
              "array([4, None, 5], dtype=object)"
            ]
          },
          "execution_count": 36,
          "metadata": {
            "tags": []
          },
          "output_type": "execute_result"
        }
      ],
      "source": [
        "# Python has None object:   # null\n",
        "import numpy as np\n",
        "R1 = np.array([4, None, 5])\n",
        "R1 # An array has only one data type. Here dtype=object is the common type"
      ]
    },
    {
      "cell_type": "code",
      "execution_count": 37,
      "metadata": {
        "colab": {
          "base_uri": "https://localhost:8080/",
          "height": 51
        },
        "colab_type": "code",
        "id": "he7pqhBCBioN",
        "outputId": "1b990105-698e-4f7f-a8e3-2031f3d06275"
      },
      "outputs": [
        {
          "name": "stdout",
          "output_type": "stream",
          "text": [
            "[ 4. nan  5.]\n"
          ]
        },
        {
          "data": {
            "text/plain": [
              "dtype('float64')"
            ]
          },
          "execution_count": 37,
          "metadata": {
            "tags": []
          },
          "output_type": "execute_result"
        }
      ],
      "source": [
        "#  NaN ( Not a Number) is a special floating-point value by the standard IEEE \n",
        "R2 = np.array([4, np.nan, 5])\n",
        "print(R2)\n",
        "R2.dtype"
      ]
    },
    {
      "cell_type": "code",
      "execution_count": 38,
      "metadata": {
        "colab": {
          "base_uri": "https://localhost:8080/",
          "height": 85
        },
        "colab_type": "code",
        "id": "u-iYWwzlBnXK",
        "outputId": "87a707b9-6f86-4b19-90e8-f782baa80e0d"
      },
      "outputs": [
        {
          "name": "stdout",
          "output_type": "stream",
          "text": [
            "nan\n",
            "nan\n",
            "nan\n"
          ]
        },
        {
          "data": {
            "text/plain": [
              "9.0"
            ]
          },
          "execution_count": 38,
          "metadata": {
            "tags": []
          },
          "output_type": "execute_result"
        }
      ],
      "source": [
        "print(5 + np.nan)\n",
        "print(5*np.nan)\n",
        "print(R2.sum())\n",
        "np.nansum(R2)  # ignore NaN"
      ]
    },
    {
      "cell_type": "code",
      "execution_count": 39,
      "metadata": {
        "colab": {
          "base_uri": "https://localhost:8080/",
          "height": 102
        },
        "colab_type": "code",
        "id": "qPNnIPEQBvg_",
        "outputId": "9f7fa035-7b40-4cea-82bc-85bf9ce7feb4"
      },
      "outputs": [
        {
          "data": {
            "text/plain": [
              "0    5.0\n",
              "1    NaN\n",
              "2    7.0\n",
              "3    NaN\n",
              "dtype: float64"
            ]
          },
          "execution_count": 39,
          "metadata": {
            "tags": []
          },
          "output_type": "execute_result"
        }
      ],
      "source": [
        "# Pandas\n",
        "s7 = pd.Series([5, np.nan, 7, None]) #  upcast to a floating-point type to consider the NA\n",
        "s7"
      ]
    },
    {
      "cell_type": "code",
      "execution_count": 40,
      "metadata": {
        "colab": {
          "base_uri": "https://localhost:8080/",
          "height": 102
        },
        "colab_type": "code",
        "id": "AcSVV_NXEMIr",
        "outputId": "edbcb06d-067c-4a2f-ec5c-dafd451b8a42"
      },
      "outputs": [
        {
          "data": {
            "text/plain": [
              "0    False\n",
              "1     True\n",
              "2    False\n",
              "3     True\n",
              "dtype: bool"
            ]
          },
          "execution_count": 40,
          "metadata": {
            "tags": []
          },
          "output_type": "execute_result"
        }
      ],
      "source": [
        "s7.isnull() "
      ]
    },
    {
      "cell_type": "code",
      "execution_count": 41,
      "metadata": {
        "colab": {
          "base_uri": "https://localhost:8080/",
          "height": 68
        },
        "colab_type": "code",
        "id": "PYDWwfflEQmK",
        "outputId": "126a8f37-4960-45eb-c841-b3994d52f791"
      },
      "outputs": [
        {
          "data": {
            "text/plain": [
              "0    5.0\n",
              "2    7.0\n",
              "dtype: float64"
            ]
          },
          "execution_count": 41,
          "metadata": {
            "tags": []
          },
          "output_type": "execute_result"
        }
      ],
      "source": [
        "s7[s7.notnull()]"
      ]
    },
    {
      "cell_type": "code",
      "execution_count": 42,
      "metadata": {
        "colab": {
          "base_uri": "https://localhost:8080/",
          "height": 68
        },
        "colab_type": "code",
        "id": "d21rXLIUFBNx",
        "outputId": "990d258f-2be0-4a09-fcc0-2ddeff00a841"
      },
      "outputs": [
        {
          "data": {
            "text/plain": [
              "0    5.0\n",
              "2    7.0\n",
              "dtype: float64"
            ]
          },
          "execution_count": 42,
          "metadata": {
            "tags": []
          },
          "output_type": "execute_result"
        }
      ],
      "source": [
        "# dropping NAs\n",
        "s7.dropna()"
      ]
    },
    {
      "cell_type": "code",
      "execution_count": 43,
      "metadata": {
        "colab": {
          "base_uri": "https://localhost:8080/",
          "height": 142
        },
        "colab_type": "code",
        "id": "kjTXoo7lFM4d",
        "outputId": "1e13a929-2708-47bc-d7e5-0ac2268d18bc"
      },
      "outputs": [
        {
          "data": {
            "text/html": [
              "<div>\n",
              "<style scoped>\n",
              "    .dataframe tbody tr th:only-of-type {\n",
              "        vertical-align: middle;\n",
              "    }\n",
              "\n",
              "    .dataframe tbody tr th {\n",
              "        vertical-align: top;\n",
              "    }\n",
              "\n",
              "    .dataframe thead th {\n",
              "        text-align: right;\n",
              "    }\n",
              "</style>\n",
              "<table border=\"1\" class=\"dataframe\">\n",
              "  <thead>\n",
              "    <tr style=\"text-align: right;\">\n",
              "      <th></th>\n",
              "      <th>0</th>\n",
              "      <th>1</th>\n",
              "      <th>2</th>\n",
              "    </tr>\n",
              "  </thead>\n",
              "  <tbody>\n",
              "    <tr>\n",
              "      <th>0</th>\n",
              "      <td>5</td>\n",
              "      <td>7.0</td>\n",
              "      <td>2.0</td>\n",
              "    </tr>\n",
              "    <tr>\n",
              "      <th>1</th>\n",
              "      <td>9</td>\n",
              "      <td>NaN</td>\n",
              "      <td>1.0</td>\n",
              "    </tr>\n",
              "    <tr>\n",
              "      <th>2</th>\n",
              "      <td>3</td>\n",
              "      <td>8.0</td>\n",
              "      <td>NaN</td>\n",
              "    </tr>\n",
              "  </tbody>\n",
              "</table>\n",
              "</div>"
            ],
            "text/plain": [
              "   0    1    2\n",
              "0  5  7.0  2.0\n",
              "1  9  NaN  1.0\n",
              "2  3  8.0  NaN"
            ]
          },
          "execution_count": 43,
          "metadata": {
            "tags": []
          },
          "output_type": "execute_result"
        }
      ],
      "source": [
        "# NAs in data frames\n",
        "df2 = pd.DataFrame([[5, 7, 2],\n",
        "                   [9,  np.nan,  1],\n",
        "                   [3,      8, np.nan]])\n",
        "df2"
      ]
    },
    {
      "cell_type": "code",
      "execution_count": 44,
      "metadata": {
        "colab": {
          "base_uri": "https://localhost:8080/",
          "height": 80
        },
        "colab_type": "code",
        "id": "JJ8ARUdrFRgO",
        "outputId": "e4e6fc5c-6fb6-4bf2-d803-4c59b2907b34"
      },
      "outputs": [
        {
          "data": {
            "text/html": [
              "<div>\n",
              "<style scoped>\n",
              "    .dataframe tbody tr th:only-of-type {\n",
              "        vertical-align: middle;\n",
              "    }\n",
              "\n",
              "    .dataframe tbody tr th {\n",
              "        vertical-align: top;\n",
              "    }\n",
              "\n",
              "    .dataframe thead th {\n",
              "        text-align: right;\n",
              "    }\n",
              "</style>\n",
              "<table border=\"1\" class=\"dataframe\">\n",
              "  <thead>\n",
              "    <tr style=\"text-align: right;\">\n",
              "      <th></th>\n",
              "      <th>0</th>\n",
              "      <th>1</th>\n",
              "      <th>2</th>\n",
              "    </tr>\n",
              "  </thead>\n",
              "  <tbody>\n",
              "    <tr>\n",
              "      <th>0</th>\n",
              "      <td>5</td>\n",
              "      <td>7.0</td>\n",
              "      <td>2.0</td>\n",
              "    </tr>\n",
              "  </tbody>\n",
              "</table>\n",
              "</div>"
            ],
            "text/plain": [
              "   0    1    2\n",
              "0  5  7.0  2.0"
            ]
          },
          "execution_count": 44,
          "metadata": {
            "tags": []
          },
          "output_type": "execute_result"
        }
      ],
      "source": [
        "# You can drop rows or columns, not single values\n",
        "df2.dropna() # default is row-wise"
      ]
    },
    {
      "cell_type": "code",
      "execution_count": 45,
      "metadata": {
        "colab": {
          "base_uri": "https://localhost:8080/",
          "height": 142
        },
        "colab_type": "code",
        "id": "tx0xIB1cFWO3",
        "outputId": "5ae1ab0c-6d37-4e79-8168-3ab24dc81456"
      },
      "outputs": [
        {
          "data": {
            "text/html": [
              "<div>\n",
              "<style scoped>\n",
              "    .dataframe tbody tr th:only-of-type {\n",
              "        vertical-align: middle;\n",
              "    }\n",
              "\n",
              "    .dataframe tbody tr th {\n",
              "        vertical-align: top;\n",
              "    }\n",
              "\n",
              "    .dataframe thead th {\n",
              "        text-align: right;\n",
              "    }\n",
              "</style>\n",
              "<table border=\"1\" class=\"dataframe\">\n",
              "  <thead>\n",
              "    <tr style=\"text-align: right;\">\n",
              "      <th></th>\n",
              "      <th>0</th>\n",
              "    </tr>\n",
              "  </thead>\n",
              "  <tbody>\n",
              "    <tr>\n",
              "      <th>0</th>\n",
              "      <td>5</td>\n",
              "    </tr>\n",
              "    <tr>\n",
              "      <th>1</th>\n",
              "      <td>9</td>\n",
              "    </tr>\n",
              "    <tr>\n",
              "      <th>2</th>\n",
              "      <td>3</td>\n",
              "    </tr>\n",
              "  </tbody>\n",
              "</table>\n",
              "</div>"
            ],
            "text/plain": [
              "   0\n",
              "0  5\n",
              "1  9\n",
              "2  3"
            ]
          },
          "execution_count": 45,
          "metadata": {
            "tags": []
          },
          "output_type": "execute_result"
        }
      ],
      "source": [
        "df2.dropna(axis =1) #column-wise. \n",
        "#Also, how = 'any' is default. how = 'all' drops when all elements of a column are null"
      ]
    },
    {
      "cell_type": "code",
      "execution_count": 46,
      "metadata": {
        "colab": {
          "base_uri": "https://localhost:8080/",
          "height": 142
        },
        "colab_type": "code",
        "id": "fZ6kPs93Fbjq",
        "outputId": "5de8d5ea-10b5-4dca-d6f9-4f48ff64371d"
      },
      "outputs": [
        {
          "data": {
            "text/html": [
              "<div>\n",
              "<style scoped>\n",
              "    .dataframe tbody tr th:only-of-type {\n",
              "        vertical-align: middle;\n",
              "    }\n",
              "\n",
              "    .dataframe tbody tr th {\n",
              "        vertical-align: top;\n",
              "    }\n",
              "\n",
              "    .dataframe thead th {\n",
              "        text-align: right;\n",
              "    }\n",
              "</style>\n",
              "<table border=\"1\" class=\"dataframe\">\n",
              "  <thead>\n",
              "    <tr style=\"text-align: right;\">\n",
              "      <th></th>\n",
              "      <th>0</th>\n",
              "      <th>1</th>\n",
              "      <th>2</th>\n",
              "    </tr>\n",
              "  </thead>\n",
              "  <tbody>\n",
              "    <tr>\n",
              "      <th>0</th>\n",
              "      <td>5</td>\n",
              "      <td>7.0</td>\n",
              "      <td>2.0</td>\n",
              "    </tr>\n",
              "    <tr>\n",
              "      <th>1</th>\n",
              "      <td>9</td>\n",
              "      <td>0.0</td>\n",
              "      <td>1.0</td>\n",
              "    </tr>\n",
              "    <tr>\n",
              "      <th>2</th>\n",
              "      <td>3</td>\n",
              "      <td>8.0</td>\n",
              "      <td>0.0</td>\n",
              "    </tr>\n",
              "  </tbody>\n",
              "</table>\n",
              "</div>"
            ],
            "text/plain": [
              "   0    1    2\n",
              "0  5  7.0  2.0\n",
              "1  9  0.0  1.0\n",
              "2  3  8.0  0.0"
            ]
          },
          "execution_count": 46,
          "metadata": {
            "tags": []
          },
          "output_type": "execute_result"
        }
      ],
      "source": [
        "# Filling NAs\n",
        "df2.fillna(0)"
      ]
    },
    {
      "cell_type": "code",
      "execution_count": 47,
      "metadata": {
        "colab": {
          "base_uri": "https://localhost:8080/",
          "height": 278
        },
        "colab_type": "code",
        "id": "rDr7kqWtFjh4",
        "outputId": "327ad87d-6a55-4392-cb97-0069fdf7ea5a"
      },
      "outputs": [
        {
          "name": "stdout",
          "output_type": "stream",
          "text": [
            "   0    1    2\n",
            "0  5  7.0  2.0\n",
            "1  9  7.0  1.0\n",
            "2  3  8.0  1.0\n",
            "     0    1    2\n",
            "0  5.0  7.0  2.0\n",
            "1  9.0  1.0  1.0\n",
            "2  3.0  8.0  NaN\n"
          ]
        },
        {
          "data": {
            "text/html": [
              "<div>\n",
              "<style scoped>\n",
              "    .dataframe tbody tr th:only-of-type {\n",
              "        vertical-align: middle;\n",
              "    }\n",
              "\n",
              "    .dataframe tbody tr th {\n",
              "        vertical-align: top;\n",
              "    }\n",
              "\n",
              "    .dataframe thead th {\n",
              "        text-align: right;\n",
              "    }\n",
              "</style>\n",
              "<table border=\"1\" class=\"dataframe\">\n",
              "  <thead>\n",
              "    <tr style=\"text-align: right;\">\n",
              "      <th></th>\n",
              "      <th>0</th>\n",
              "      <th>1</th>\n",
              "      <th>2</th>\n",
              "    </tr>\n",
              "  </thead>\n",
              "  <tbody>\n",
              "    <tr>\n",
              "      <th>0</th>\n",
              "      <td>5</td>\n",
              "      <td>7.0</td>\n",
              "      <td>2.0</td>\n",
              "    </tr>\n",
              "    <tr>\n",
              "      <th>1</th>\n",
              "      <td>9</td>\n",
              "      <td>NaN</td>\n",
              "      <td>1.0</td>\n",
              "    </tr>\n",
              "    <tr>\n",
              "      <th>2</th>\n",
              "      <td>3</td>\n",
              "      <td>8.0</td>\n",
              "      <td>NaN</td>\n",
              "    </tr>\n",
              "  </tbody>\n",
              "</table>\n",
              "</div>"
            ],
            "text/plain": [
              "   0    1    2\n",
              "0  5  7.0  2.0\n",
              "1  9  NaN  1.0\n",
              "2  3  8.0  NaN"
            ]
          },
          "execution_count": 47,
          "metadata": {
            "tags": []
          },
          "output_type": "execute_result"
        }
      ],
      "source": [
        "print(df2.fillna(method='ffill')) # forward \n",
        "print(df2.fillna(method='bfill', axis =1)) #backward\n",
        "df2"
      ]
    },
    {
      "cell_type": "markdown",
      "metadata": {
        "colab_type": "text",
        "id": "hvR8kds0FvTI"
      },
      "source": [
        "### Aggregation"
      ]
    },
    {
      "cell_type": "code",
      "execution_count": 48,
      "metadata": {
        "colab": {},
        "colab_type": "code",
        "id": "NPO3rHCpFwjl"
      },
      "outputs": [],
      "source": [
        "df = pd.DataFrame({'A' : ['foo', 'bar', 'foo', 'bar', 'foo', 'bar', 'foo', 'foo'],\n",
        "                   'B' : ['one', 'one', 'two', 'three', 'two', 'two', 'one', 'three'],\n",
        "                   'C' : np.random.randn(8),\n",
        "                   'D' : np.random.randn(8)})"
      ]
    },
    {
      "cell_type": "code",
      "execution_count": 49,
      "metadata": {
        "colab": {
          "base_uri": "https://localhost:8080/",
          "height": 297
        },
        "colab_type": "code",
        "id": "749RZJfDF8cp",
        "outputId": "4a75063d-1ce4-43d0-858b-1d2c37a814ae"
      },
      "outputs": [
        {
          "data": {
            "text/html": [
              "<div>\n",
              "<style scoped>\n",
              "    .dataframe tbody tr th:only-of-type {\n",
              "        vertical-align: middle;\n",
              "    }\n",
              "\n",
              "    .dataframe tbody tr th {\n",
              "        vertical-align: top;\n",
              "    }\n",
              "\n",
              "    .dataframe thead th {\n",
              "        text-align: right;\n",
              "    }\n",
              "</style>\n",
              "<table border=\"1\" class=\"dataframe\">\n",
              "  <thead>\n",
              "    <tr style=\"text-align: right;\">\n",
              "      <th></th>\n",
              "      <th>A</th>\n",
              "      <th>B</th>\n",
              "      <th>C</th>\n",
              "      <th>D</th>\n",
              "    </tr>\n",
              "  </thead>\n",
              "  <tbody>\n",
              "    <tr>\n",
              "      <th>0</th>\n",
              "      <td>foo</td>\n",
              "      <td>one</td>\n",
              "      <td>1.139433</td>\n",
              "      <td>0.522106</td>\n",
              "    </tr>\n",
              "    <tr>\n",
              "      <th>1</th>\n",
              "      <td>bar</td>\n",
              "      <td>one</td>\n",
              "      <td>0.492168</td>\n",
              "      <td>1.275858</td>\n",
              "    </tr>\n",
              "    <tr>\n",
              "      <th>2</th>\n",
              "      <td>foo</td>\n",
              "      <td>two</td>\n",
              "      <td>-0.125089</td>\n",
              "      <td>-1.283297</td>\n",
              "    </tr>\n",
              "    <tr>\n",
              "      <th>3</th>\n",
              "      <td>bar</td>\n",
              "      <td>three</td>\n",
              "      <td>0.141662</td>\n",
              "      <td>1.044040</td>\n",
              "    </tr>\n",
              "    <tr>\n",
              "      <th>4</th>\n",
              "      <td>foo</td>\n",
              "      <td>two</td>\n",
              "      <td>0.712528</td>\n",
              "      <td>1.576451</td>\n",
              "    </tr>\n",
              "    <tr>\n",
              "      <th>5</th>\n",
              "      <td>bar</td>\n",
              "      <td>two</td>\n",
              "      <td>0.119389</td>\n",
              "      <td>0.878904</td>\n",
              "    </tr>\n",
              "    <tr>\n",
              "      <th>6</th>\n",
              "      <td>foo</td>\n",
              "      <td>one</td>\n",
              "      <td>-1.138319</td>\n",
              "      <td>1.205415</td>\n",
              "    </tr>\n",
              "    <tr>\n",
              "      <th>7</th>\n",
              "      <td>foo</td>\n",
              "      <td>three</td>\n",
              "      <td>1.449812</td>\n",
              "      <td>-0.643328</td>\n",
              "    </tr>\n",
              "  </tbody>\n",
              "</table>\n",
              "</div>"
            ],
            "text/plain": [
              "     A      B         C         D\n",
              "0  foo    one  1.139433  0.522106\n",
              "1  bar    one  0.492168  1.275858\n",
              "2  foo    two -0.125089 -1.283297\n",
              "3  bar  three  0.141662  1.044040\n",
              "4  foo    two  0.712528  1.576451\n",
              "5  bar    two  0.119389  0.878904\n",
              "6  foo    one -1.138319  1.205415\n",
              "7  foo  three  1.449812 -0.643328"
            ]
          },
          "execution_count": 49,
          "metadata": {
            "tags": []
          },
          "output_type": "execute_result"
        }
      ],
      "source": [
        "df"
      ]
    },
    {
      "cell_type": "code",
      "execution_count": 50,
      "metadata": {
        "colab": {
          "base_uri": "https://localhost:8080/",
          "height": 34
        },
        "colab_type": "code",
        "id": "yC1FR1u7GA2J",
        "outputId": "1b8cfb95-f7ae-4cf5-e2f0-0dae3dfd46e5"
      },
      "outputs": [
        {
          "data": {
            "text/plain": [
              "<pandas.core.groupby.generic.DataFrameGroupBy object at 0x7f5c702d0710>"
            ]
          },
          "execution_count": 50,
          "metadata": {
            "tags": []
          },
          "output_type": "execute_result"
        }
      ],
      "source": [
        "grouped = df.groupby('A')\n",
        "\n",
        "grouped"
      ]
    },
    {
      "cell_type": "code",
      "execution_count": 51,
      "metadata": {
        "colab": {
          "base_uri": "https://localhost:8080/",
          "height": 142
        },
        "colab_type": "code",
        "id": "oU5eF5xVGFFt",
        "outputId": "df21c80f-c944-4d67-e359-f36dbfddd091"
      },
      "outputs": [
        {
          "data": {
            "text/html": [
              "<div>\n",
              "<style scoped>\n",
              "    .dataframe tbody tr th:only-of-type {\n",
              "        vertical-align: middle;\n",
              "    }\n",
              "\n",
              "    .dataframe tbody tr th {\n",
              "        vertical-align: top;\n",
              "    }\n",
              "\n",
              "    .dataframe thead th {\n",
              "        text-align: right;\n",
              "    }\n",
              "</style>\n",
              "<table border=\"1\" class=\"dataframe\">\n",
              "  <thead>\n",
              "    <tr style=\"text-align: right;\">\n",
              "      <th></th>\n",
              "      <th>C</th>\n",
              "      <th>D</th>\n",
              "    </tr>\n",
              "    <tr>\n",
              "      <th>A</th>\n",
              "      <th></th>\n",
              "      <th></th>\n",
              "    </tr>\n",
              "  </thead>\n",
              "  <tbody>\n",
              "    <tr>\n",
              "      <th>bar</th>\n",
              "      <td>0.753220</td>\n",
              "      <td>3.198802</td>\n",
              "    </tr>\n",
              "    <tr>\n",
              "      <th>foo</th>\n",
              "      <td>2.038365</td>\n",
              "      <td>1.377347</td>\n",
              "    </tr>\n",
              "  </tbody>\n",
              "</table>\n",
              "</div>"
            ],
            "text/plain": [
              "            C         D\n",
              "A                      \n",
              "bar  0.753220  3.198802\n",
              "foo  2.038365  1.377347"
            ]
          },
          "execution_count": 51,
          "metadata": {
            "tags": []
          },
          "output_type": "execute_result"
        }
      ],
      "source": [
        "grouped.sum() # df.groupby('A').sum()"
      ]
    },
    {
      "cell_type": "code",
      "execution_count": 52,
      "metadata": {
        "colab": {
          "base_uri": "https://localhost:8080/",
          "height": 204
        },
        "colab_type": "code",
        "id": "Iu3yknmCGKvd",
        "outputId": "211395da-b618-473f-eadd-54e1786b6356"
      },
      "outputs": [
        {
          "data": {
            "text/html": [
              "<div>\n",
              "<style scoped>\n",
              "    .dataframe tbody tr th:only-of-type {\n",
              "        vertical-align: middle;\n",
              "    }\n",
              "\n",
              "    .dataframe tbody tr th {\n",
              "        vertical-align: top;\n",
              "    }\n",
              "\n",
              "    .dataframe thead th {\n",
              "        text-align: right;\n",
              "    }\n",
              "</style>\n",
              "<table border=\"1\" class=\"dataframe\">\n",
              "  <thead>\n",
              "    <tr style=\"text-align: right;\">\n",
              "      <th></th>\n",
              "      <th>A</th>\n",
              "      <th>B</th>\n",
              "      <th>C</th>\n",
              "      <th>D</th>\n",
              "    </tr>\n",
              "  </thead>\n",
              "  <tbody>\n",
              "    <tr>\n",
              "      <th>0</th>\n",
              "      <td>foo</td>\n",
              "      <td>one</td>\n",
              "      <td>1.139433</td>\n",
              "      <td>0.522106</td>\n",
              "    </tr>\n",
              "    <tr>\n",
              "      <th>2</th>\n",
              "      <td>foo</td>\n",
              "      <td>two</td>\n",
              "      <td>-0.125089</td>\n",
              "      <td>-1.283297</td>\n",
              "    </tr>\n",
              "    <tr>\n",
              "      <th>4</th>\n",
              "      <td>foo</td>\n",
              "      <td>two</td>\n",
              "      <td>0.712528</td>\n",
              "      <td>1.576451</td>\n",
              "    </tr>\n",
              "    <tr>\n",
              "      <th>6</th>\n",
              "      <td>foo</td>\n",
              "      <td>one</td>\n",
              "      <td>-1.138319</td>\n",
              "      <td>1.205415</td>\n",
              "    </tr>\n",
              "    <tr>\n",
              "      <th>7</th>\n",
              "      <td>foo</td>\n",
              "      <td>three</td>\n",
              "      <td>1.449812</td>\n",
              "      <td>-0.643328</td>\n",
              "    </tr>\n",
              "  </tbody>\n",
              "</table>\n",
              "</div>"
            ],
            "text/plain": [
              "     A      B         C         D\n",
              "0  foo    one  1.139433  0.522106\n",
              "2  foo    two -0.125089 -1.283297\n",
              "4  foo    two  0.712528  1.576451\n",
              "6  foo    one -1.138319  1.205415\n",
              "7  foo  three  1.449812 -0.643328"
            ]
          },
          "execution_count": 52,
          "metadata": {
            "tags": []
          },
          "output_type": "execute_result"
        }
      ],
      "source": [
        "df.groupby('A').get_group('foo')"
      ]
    },
    {
      "cell_type": "code",
      "execution_count": 53,
      "metadata": {
        "colab": {
          "base_uri": "https://localhost:8080/",
          "height": 142
        },
        "colab_type": "code",
        "id": "jNqIRZZ2GVnc",
        "outputId": "201aa22e-4a83-47bc-dc7e-f9f1be06f517"
      },
      "outputs": [
        {
          "data": {
            "text/html": [
              "<div>\n",
              "<style scoped>\n",
              "    .dataframe tbody tr th:only-of-type {\n",
              "        vertical-align: middle;\n",
              "    }\n",
              "\n",
              "    .dataframe tbody tr th {\n",
              "        vertical-align: top;\n",
              "    }\n",
              "\n",
              "    .dataframe thead th {\n",
              "        text-align: right;\n",
              "    }\n",
              "</style>\n",
              "<table border=\"1\" class=\"dataframe\">\n",
              "  <thead>\n",
              "    <tr style=\"text-align: right;\">\n",
              "      <th></th>\n",
              "      <th>C</th>\n",
              "      <th>D</th>\n",
              "    </tr>\n",
              "    <tr>\n",
              "      <th>A</th>\n",
              "      <th></th>\n",
              "      <th></th>\n",
              "    </tr>\n",
              "  </thead>\n",
              "  <tbody>\n",
              "    <tr>\n",
              "      <th>bar</th>\n",
              "      <td>0.753220</td>\n",
              "      <td>3.198802</td>\n",
              "    </tr>\n",
              "    <tr>\n",
              "      <th>foo</th>\n",
              "      <td>2.038365</td>\n",
              "      <td>1.377347</td>\n",
              "    </tr>\n",
              "  </tbody>\n",
              "</table>\n",
              "</div>"
            ],
            "text/plain": [
              "            C         D\n",
              "A                      \n",
              "bar  0.753220  3.198802\n",
              "foo  2.038365  1.377347"
            ]
          },
          "execution_count": 53,
          "metadata": {
            "tags": []
          },
          "output_type": "execute_result"
        }
      ],
      "source": [
        "grouped.agg(np.sum)"
      ]
    },
    {
      "cell_type": "code",
      "execution_count": 54,
      "metadata": {
        "colab": {
          "base_uri": "https://localhost:8080/",
          "height": 85
        },
        "colab_type": "code",
        "id": "wza6cgwWGaf5",
        "outputId": "143f1658-e666-4bce-f7e9-ce63357c4cb9"
      },
      "outputs": [
        {
          "data": {
            "text/plain": [
              "A\n",
              "bar    3\n",
              "foo    5\n",
              "dtype: int64"
            ]
          },
          "execution_count": 54,
          "metadata": {
            "tags": []
          },
          "output_type": "execute_result"
        }
      ],
      "source": [
        "grouped.size()"
      ]
    },
    {
      "cell_type": "code",
      "execution_count": 55,
      "metadata": {
        "colab": {
          "base_uri": "https://localhost:8080/",
          "height": 193
        },
        "colab_type": "code",
        "id": "EaEMsFtWGg6l",
        "outputId": "a45f5509-abfc-4c69-fccc-2d5ea89b7f60"
      },
      "outputs": [
        {
          "data": {
            "text/html": [
              "<div>\n",
              "<style scoped>\n",
              "    .dataframe tbody tr th:only-of-type {\n",
              "        vertical-align: middle;\n",
              "    }\n",
              "\n",
              "    .dataframe tbody tr th {\n",
              "        vertical-align: top;\n",
              "    }\n",
              "\n",
              "    .dataframe thead tr th {\n",
              "        text-align: left;\n",
              "    }\n",
              "\n",
              "    .dataframe thead tr:last-of-type th {\n",
              "        text-align: right;\n",
              "    }\n",
              "</style>\n",
              "<table border=\"1\" class=\"dataframe\">\n",
              "  <thead>\n",
              "    <tr>\n",
              "      <th></th>\n",
              "      <th colspan=\"8\" halign=\"left\">C</th>\n",
              "      <th colspan=\"8\" halign=\"left\">D</th>\n",
              "    </tr>\n",
              "    <tr>\n",
              "      <th></th>\n",
              "      <th>count</th>\n",
              "      <th>mean</th>\n",
              "      <th>std</th>\n",
              "      <th>min</th>\n",
              "      <th>25%</th>\n",
              "      <th>50%</th>\n",
              "      <th>75%</th>\n",
              "      <th>max</th>\n",
              "      <th>count</th>\n",
              "      <th>mean</th>\n",
              "      <th>std</th>\n",
              "      <th>min</th>\n",
              "      <th>25%</th>\n",
              "      <th>50%</th>\n",
              "      <th>75%</th>\n",
              "      <th>max</th>\n",
              "    </tr>\n",
              "    <tr>\n",
              "      <th>A</th>\n",
              "      <th></th>\n",
              "      <th></th>\n",
              "      <th></th>\n",
              "      <th></th>\n",
              "      <th></th>\n",
              "      <th></th>\n",
              "      <th></th>\n",
              "      <th></th>\n",
              "      <th></th>\n",
              "      <th></th>\n",
              "      <th></th>\n",
              "      <th></th>\n",
              "      <th></th>\n",
              "      <th></th>\n",
              "      <th></th>\n",
              "      <th></th>\n",
              "    </tr>\n",
              "  </thead>\n",
              "  <tbody>\n",
              "    <tr>\n",
              "      <th>bar</th>\n",
              "      <td>3.0</td>\n",
              "      <td>0.251073</td>\n",
              "      <td>0.209091</td>\n",
              "      <td>0.119389</td>\n",
              "      <td>0.130526</td>\n",
              "      <td>0.141662</td>\n",
              "      <td>0.316915</td>\n",
              "      <td>0.492168</td>\n",
              "      <td>3.0</td>\n",
              "      <td>1.066267</td>\n",
              "      <td>0.199408</td>\n",
              "      <td>0.878904</td>\n",
              "      <td>0.961472</td>\n",
              "      <td>1.044040</td>\n",
              "      <td>1.159949</td>\n",
              "      <td>1.275858</td>\n",
              "    </tr>\n",
              "    <tr>\n",
              "      <th>foo</th>\n",
              "      <td>5.0</td>\n",
              "      <td>0.407673</td>\n",
              "      <td>1.047424</td>\n",
              "      <td>-1.138319</td>\n",
              "      <td>-0.125089</td>\n",
              "      <td>0.712528</td>\n",
              "      <td>1.139433</td>\n",
              "      <td>1.449812</td>\n",
              "      <td>5.0</td>\n",
              "      <td>0.275469</td>\n",
              "      <td>1.213685</td>\n",
              "      <td>-1.283297</td>\n",
              "      <td>-0.643328</td>\n",
              "      <td>0.522106</td>\n",
              "      <td>1.205415</td>\n",
              "      <td>1.576451</td>\n",
              "    </tr>\n",
              "  </tbody>\n",
              "</table>\n",
              "</div>"
            ],
            "text/plain": [
              "        C                                ...         D                              \n",
              "    count      mean       std       min  ...       25%       50%       75%       max\n",
              "A                                        ...                                        \n",
              "bar   3.0  0.251073  0.209091  0.119389  ...  0.961472  1.044040  1.159949  1.275858\n",
              "foo   5.0  0.407673  1.047424 -1.138319  ... -0.643328  0.522106  1.205415  1.576451\n",
              "\n",
              "[2 rows x 16 columns]"
            ]
          },
          "execution_count": 55,
          "metadata": {
            "tags": []
          },
          "output_type": "execute_result"
        }
      ],
      "source": [
        "grouped.describe() #pandas.DataFrame.describe?"
      ]
    },
    {
      "cell_type": "code",
      "execution_count": 56,
      "metadata": {
        "colab": {
          "base_uri": "https://localhost:8080/",
          "height": 142
        },
        "colab_type": "code",
        "id": "bpQ9NojaGoJM",
        "outputId": "0011a18a-c0e5-47ee-bd61-aa8c3d2869a7"
      },
      "outputs": [
        {
          "data": {
            "text/html": [
              "<div>\n",
              "<style scoped>\n",
              "    .dataframe tbody tr th:only-of-type {\n",
              "        vertical-align: middle;\n",
              "    }\n",
              "\n",
              "    .dataframe tbody tr th {\n",
              "        vertical-align: top;\n",
              "    }\n",
              "\n",
              "    .dataframe thead th {\n",
              "        text-align: right;\n",
              "    }\n",
              "</style>\n",
              "<table border=\"1\" class=\"dataframe\">\n",
              "  <thead>\n",
              "    <tr style=\"text-align: right;\">\n",
              "      <th></th>\n",
              "      <th>sum</th>\n",
              "      <th>mean</th>\n",
              "      <th>std</th>\n",
              "    </tr>\n",
              "    <tr>\n",
              "      <th>A</th>\n",
              "      <th></th>\n",
              "      <th></th>\n",
              "      <th></th>\n",
              "    </tr>\n",
              "  </thead>\n",
              "  <tbody>\n",
              "    <tr>\n",
              "      <th>bar</th>\n",
              "      <td>0.753220</td>\n",
              "      <td>0.251073</td>\n",
              "      <td>0.209091</td>\n",
              "    </tr>\n",
              "    <tr>\n",
              "      <th>foo</th>\n",
              "      <td>2.038365</td>\n",
              "      <td>0.407673</td>\n",
              "      <td>1.047424</td>\n",
              "    </tr>\n",
              "  </tbody>\n",
              "</table>\n",
              "</div>"
            ],
            "text/plain": [
              "          sum      mean       std\n",
              "A                                \n",
              "bar  0.753220  0.251073  0.209091\n",
              "foo  2.038365  0.407673  1.047424"
            ]
          },
          "execution_count": 56,
          "metadata": {
            "tags": []
          },
          "output_type": "execute_result"
        }
      ],
      "source": [
        "# Multiple functions\n",
        "grouped['C'].agg([np.sum, np.mean, np.std])"
      ]
    },
    {
      "cell_type": "code",
      "execution_count": 57,
      "metadata": {
        "colab": {
          "base_uri": "https://localhost:8080/",
          "height": 85
        },
        "colab_type": "code",
        "id": "xAT2il_R34Vc",
        "outputId": "c2c67ba0-4284-48cf-eb16-9d84e9be2452"
      },
      "outputs": [
        {
          "data": {
            "text/plain": [
              "A\n",
              "bar    0.251073\n",
              "foo    0.407673\n",
              "Name: C, dtype: float64"
            ]
          },
          "execution_count": 57,
          "metadata": {
            "tags": []
          },
          "output_type": "execute_result"
        }
      ],
      "source": [
        "df.groupby('A').aggregate('C').mean()"
      ]
    },
    {
      "cell_type": "code",
      "execution_count": 58,
      "metadata": {
        "colab": {
          "base_uri": "https://localhost:8080/",
          "height": 85
        },
        "colab_type": "code",
        "id": "xiVuJPLy4kpY",
        "outputId": "b457f186-9075-470b-bfd5-b9d3c01dc6f8"
      },
      "outputs": [
        {
          "data": {
            "text/plain": [
              "A\n",
              "bar    0.251073\n",
              "foo    0.407673\n",
              "Name: C, dtype: float64"
            ]
          },
          "execution_count": 58,
          "metadata": {
            "tags": []
          },
          "output_type": "execute_result"
        }
      ],
      "source": [
        "df.groupby('A').C.mean()"
      ]
    },
    {
      "cell_type": "code",
      "execution_count": 59,
      "metadata": {
        "colab": {
          "base_uri": "https://localhost:8080/",
          "height": 85
        },
        "colab_type": "code",
        "id": "U-rfalTl4ze6",
        "outputId": "a04a74b2-ac85-4b67-ef97-3b2de697bffe"
      },
      "outputs": [
        {
          "data": {
            "text/plain": [
              "A\n",
              "bar    0.251073\n",
              "foo    0.407673\n",
              "Name: C, dtype: float64"
            ]
          },
          "execution_count": 59,
          "metadata": {
            "tags": []
          },
          "output_type": "execute_result"
        }
      ],
      "source": [
        "df.groupby('A')['C'].mean()"
      ]
    },
    {
      "cell_type": "markdown",
      "metadata": {
        "colab_type": "text",
        "id": "S5-4CzPx5HFD"
      },
      "source": [
        "### Categorical Variables:\n",
        "There are several ways to convert categorical variables: LabelEncoder, onehotencoder, and get_dummies"
      ]
    },
    {
      "cell_type": "code",
      "execution_count": 60,
      "metadata": {
        "colab": {
          "base_uri": "https://localhost:8080/",
          "height": 297
        },
        "colab_type": "code",
        "id": "qbIJwniUmlR_",
        "outputId": "66f0d3d7-b332-4ccd-abb1-47fafe3c82b6"
      },
      "outputs": [
        {
          "data": {
            "text/html": [
              "<div>\n",
              "<style scoped>\n",
              "    .dataframe tbody tr th:only-of-type {\n",
              "        vertical-align: middle;\n",
              "    }\n",
              "\n",
              "    .dataframe tbody tr th {\n",
              "        vertical-align: top;\n",
              "    }\n",
              "\n",
              "    .dataframe thead th {\n",
              "        text-align: right;\n",
              "    }\n",
              "</style>\n",
              "<table border=\"1\" class=\"dataframe\">\n",
              "  <thead>\n",
              "    <tr style=\"text-align: right;\">\n",
              "      <th></th>\n",
              "      <th>A</th>\n",
              "      <th>B</th>\n",
              "      <th>C</th>\n",
              "      <th>D</th>\n",
              "    </tr>\n",
              "  </thead>\n",
              "  <tbody>\n",
              "    <tr>\n",
              "      <th>0</th>\n",
              "      <td>foo</td>\n",
              "      <td>one</td>\n",
              "      <td>1.139433</td>\n",
              "      <td>0.522106</td>\n",
              "    </tr>\n",
              "    <tr>\n",
              "      <th>1</th>\n",
              "      <td>bar</td>\n",
              "      <td>one</td>\n",
              "      <td>0.492168</td>\n",
              "      <td>1.275858</td>\n",
              "    </tr>\n",
              "    <tr>\n",
              "      <th>2</th>\n",
              "      <td>foo</td>\n",
              "      <td>two</td>\n",
              "      <td>-0.125089</td>\n",
              "      <td>-1.283297</td>\n",
              "    </tr>\n",
              "    <tr>\n",
              "      <th>3</th>\n",
              "      <td>bar</td>\n",
              "      <td>three</td>\n",
              "      <td>0.141662</td>\n",
              "      <td>1.044040</td>\n",
              "    </tr>\n",
              "    <tr>\n",
              "      <th>4</th>\n",
              "      <td>foo</td>\n",
              "      <td>two</td>\n",
              "      <td>0.712528</td>\n",
              "      <td>1.576451</td>\n",
              "    </tr>\n",
              "    <tr>\n",
              "      <th>5</th>\n",
              "      <td>bar</td>\n",
              "      <td>two</td>\n",
              "      <td>0.119389</td>\n",
              "      <td>0.878904</td>\n",
              "    </tr>\n",
              "    <tr>\n",
              "      <th>6</th>\n",
              "      <td>foo</td>\n",
              "      <td>one</td>\n",
              "      <td>-1.138319</td>\n",
              "      <td>1.205415</td>\n",
              "    </tr>\n",
              "    <tr>\n",
              "      <th>7</th>\n",
              "      <td>foo</td>\n",
              "      <td>three</td>\n",
              "      <td>1.449812</td>\n",
              "      <td>-0.643328</td>\n",
              "    </tr>\n",
              "  </tbody>\n",
              "</table>\n",
              "</div>"
            ],
            "text/plain": [
              "     A      B         C         D\n",
              "0  foo    one  1.139433  0.522106\n",
              "1  bar    one  0.492168  1.275858\n",
              "2  foo    two -0.125089 -1.283297\n",
              "3  bar  three  0.141662  1.044040\n",
              "4  foo    two  0.712528  1.576451\n",
              "5  bar    two  0.119389  0.878904\n",
              "6  foo    one -1.138319  1.205415\n",
              "7  foo  three  1.449812 -0.643328"
            ]
          },
          "execution_count": 60,
          "metadata": {
            "tags": []
          },
          "output_type": "execute_result"
        }
      ],
      "source": [
        "# Let us recall df\n",
        "df"
      ]
    },
    {
      "cell_type": "code",
      "execution_count": 61,
      "metadata": {
        "colab": {
          "base_uri": "https://localhost:8080/",
          "height": 204
        },
        "colab_type": "code",
        "id": "AudXaCYe6Lsw",
        "outputId": "58861a7c-b8d4-4e8a-e2ac-9d70f6932995"
      },
      "outputs": [
        {
          "data": {
            "text/html": [
              "<div>\n",
              "<style scoped>\n",
              "    .dataframe tbody tr th:only-of-type {\n",
              "        vertical-align: middle;\n",
              "    }\n",
              "\n",
              "    .dataframe tbody tr th {\n",
              "        vertical-align: top;\n",
              "    }\n",
              "\n",
              "    .dataframe thead th {\n",
              "        text-align: right;\n",
              "    }\n",
              "</style>\n",
              "<table border=\"1\" class=\"dataframe\">\n",
              "  <thead>\n",
              "    <tr style=\"text-align: right;\">\n",
              "      <th></th>\n",
              "      <th>C</th>\n",
              "      <th>D</th>\n",
              "      <th>A_bar</th>\n",
              "      <th>A_foo</th>\n",
              "      <th>B_one</th>\n",
              "      <th>B_three</th>\n",
              "      <th>B_two</th>\n",
              "    </tr>\n",
              "  </thead>\n",
              "  <tbody>\n",
              "    <tr>\n",
              "      <th>0</th>\n",
              "      <td>1.139433</td>\n",
              "      <td>0.522106</td>\n",
              "      <td>0</td>\n",
              "      <td>1</td>\n",
              "      <td>1</td>\n",
              "      <td>0</td>\n",
              "      <td>0</td>\n",
              "    </tr>\n",
              "    <tr>\n",
              "      <th>1</th>\n",
              "      <td>0.492168</td>\n",
              "      <td>1.275858</td>\n",
              "      <td>1</td>\n",
              "      <td>0</td>\n",
              "      <td>1</td>\n",
              "      <td>0</td>\n",
              "      <td>0</td>\n",
              "    </tr>\n",
              "    <tr>\n",
              "      <th>2</th>\n",
              "      <td>-0.125089</td>\n",
              "      <td>-1.283297</td>\n",
              "      <td>0</td>\n",
              "      <td>1</td>\n",
              "      <td>0</td>\n",
              "      <td>0</td>\n",
              "      <td>1</td>\n",
              "    </tr>\n",
              "    <tr>\n",
              "      <th>3</th>\n",
              "      <td>0.141662</td>\n",
              "      <td>1.044040</td>\n",
              "      <td>1</td>\n",
              "      <td>0</td>\n",
              "      <td>0</td>\n",
              "      <td>1</td>\n",
              "      <td>0</td>\n",
              "    </tr>\n",
              "    <tr>\n",
              "      <th>4</th>\n",
              "      <td>0.712528</td>\n",
              "      <td>1.576451</td>\n",
              "      <td>0</td>\n",
              "      <td>1</td>\n",
              "      <td>0</td>\n",
              "      <td>0</td>\n",
              "      <td>1</td>\n",
              "    </tr>\n",
              "  </tbody>\n",
              "</table>\n",
              "</div>"
            ],
            "text/plain": [
              "          C         D  A_bar  A_foo  B_one  B_three  B_two\n",
              "0  1.139433  0.522106      0      1      1        0      0\n",
              "1  0.492168  1.275858      1      0      1        0      0\n",
              "2 -0.125089 -1.283297      0      1      0        0      1\n",
              "3  0.141662  1.044040      1      0      0        1      0\n",
              "4  0.712528  1.576451      0      1      0        0      1"
            ]
          },
          "execution_count": 61,
          "metadata": {
            "tags": []
          },
          "output_type": "execute_result"
        }
      ],
      "source": [
        "df_1 = pd.get_dummies(df)\n",
        "df_1.head()"
      ]
    },
    {
      "cell_type": "code",
      "execution_count": 5,
      "metadata": {
        "colab": {
          "base_uri": "https://localhost:8080/",
          "height": 68
        },
        "colab_type": "code",
        "id": "vi5jnrEp9f-g",
        "outputId": "c671136d-4737-4a6c-a3cc-c5dce10b8e77"
      },
      "outputs": [
        {
          "data": {
            "text/plain": [
              "array([[ 0.        ,  0.        ],\n",
              "       [-1.22474487, -1.22474487],\n",
              "       [ 1.22474487,  1.22474487]])"
            ]
          },
          "execution_count": 5,
          "metadata": {},
          "output_type": "execute_result"
        }
      ],
      "source": [
        "from sklearn.preprocessing import StandardScaler\n",
        "list_1 = [[1000, 10], [999, 9], [1001, 11]]\n",
        "scaler = StandardScaler()\n",
        "scaler.fit(list_1)\n",
        "scaler.transform(list_1)"
      ]
    },
    {
      "cell_type": "code",
      "execution_count": null,
      "metadata": {},
      "outputs": [
        {
          "name": "stdout",
          "output_type": "stream",
          "text": [
            "StandardScaler()\n"
          ]
        }
      ],
      "source": [
        "print(list_1)"
      ]
    },
    {
      "cell_type": "code",
      "execution_count": 68,
      "metadata": {
        "colab": {
          "base_uri": "https://localhost:8080/",
          "height": 153
        },
        "colab_type": "code",
        "id": "MSG5oUO7AcCk",
        "outputId": "cf15aa5c-7704-4968-bbf3-acb40042c206"
      },
      "outputs": [
        {
          "data": {
            "text/plain": [
              "array([[ 1.05143447, -0.05281732],\n",
              "       [ 0.19049937,  0.74480325],\n",
              "       [-0.63052383, -1.96329644],\n",
              "       [-0.27571411,  0.49949297],\n",
              "       [ 0.48360331,  1.06289127],\n",
              "       [-0.30533922,  0.32474651],\n",
              "       [-1.97823467,  0.67026086],\n",
              "       [ 1.46427468, -1.28608109]])"
            ]
          },
          "execution_count": 68,
          "metadata": {
            "tags": []
          },
          "output_type": "execute_result"
        }
      ],
      "source": [
        "df_2 = scaler.fit_transform(df_1[['C','D']])\n",
        "df_2"
      ]
    },
    {
      "cell_type": "code",
      "execution_count": 64,
      "metadata": {
        "colab": {
          "base_uri": "https://localhost:8080/",
          "height": 68
        },
        "colab_type": "code",
        "id": "AU_Ea46o97h8",
        "outputId": "905e3dd7-86dd-4dfa-9387-84907d1aae2e"
      },
      "outputs": [
        {
          "data": {
            "text/plain": [
              "array([[ 0.        ,  0.        ],\n",
              "       [ 0.        , -1.22474487],\n",
              "       [ 0.        ,  1.22474487]])"
            ]
          },
          "execution_count": 64,
          "metadata": {
            "tags": []
          },
          "output_type": "execute_result"
        }
      ],
      "source": [
        "list_2 = [[1000, 10], [1000, 9], [1000, 11]]\n",
        "scaler = StandardScaler()\n",
        "scaler.fit(list_2)\n",
        "scaler.transform(list_2)"
      ]
    },
    {
      "cell_type": "code",
      "execution_count": 72,
      "metadata": {
        "colab": {
          "base_uri": "https://localhost:8080/",
          "height": 153
        },
        "colab_type": "code",
        "id": "_-t7ZS4kpNF5",
        "outputId": "e64ccb93-fd20-4e43-ea30-4529c7ba2351"
      },
      "outputs": [
        {
          "data": {
            "text/plain": [
              "array([[ 1.13943255,  0.5221063 ],\n",
              "       [ 0.49216847,  1.27585806],\n",
              "       [-0.12508924, -1.28329722],\n",
              "       [ 0.14166209,  1.04403974],\n",
              "       [ 0.71252846,  1.57645136],\n",
              "       [ 0.11938949,  0.87890427],\n",
              "       [-1.13831872,  1.20541547],\n",
              "       [ 1.44981209, -0.64332845]])"
            ]
          },
          "execution_count": 72,
          "metadata": {
            "tags": []
          },
          "output_type": "execute_result"
        }
      ],
      "source": [
        "#Scale back the data to the original representation\n",
        "scaler.inverse_transform(df_2). ## same as column C and D of df_1"
      ]
    }
  ],
  "metadata": {
    "colab": {
      "name": "DataWrangling.ipynb",
      "provenance": []
    },
    "kernelspec": {
      "display_name": "Python 3",
      "name": "python3"
    },
    "language_info": {
      "codemirror_mode": {
        "name": "ipython",
        "version": 3
      },
      "file_extension": ".py",
      "mimetype": "text/x-python",
      "name": "python",
      "nbconvert_exporter": "python",
      "pygments_lexer": "ipython3",
      "version": "3.12.2"
    }
  },
  "nbformat": 4,
  "nbformat_minor": 0
}
