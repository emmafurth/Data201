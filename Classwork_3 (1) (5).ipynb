{
  "cells": [
    {
      "cell_type": "markdown",
      "metadata": {
        "id": "bvd7wr-iVCJU"
      },
      "source": [
        "(1) A die with four sides p=[1/8,1/8,1/2,1/4]. What is the entropy of this random variable? \n",
        "      Which probability distribution will result the maximum entropy?"
      ]
    },
    {
      "cell_type": "code",
      "execution_count": 2,
      "metadata": {
        "id": "CA4URyJBU0eR"
      },
      "outputs": [
        {
          "data": {
            "text/plain": [
              "2.0"
            ]
          },
          "execution_count": 2,
          "metadata": {},
          "output_type": "execute_result"
        }
      ],
      "source": [
        "from math import log2\n",
        "\n",
        "p=1/4\n",
        "H = -sum([p * log2(p) for _ in range(4)])\n",
        "\n",
        "H"
      ]
    },
    {
      "cell_type": "markdown",
      "metadata": {
        "id": "AY61UfbTVP7D"
      },
      "source": [
        "(2) Generate a sample from a normal distribution with mean = 100 and standard deviation = 15. Bootstrap a sampling distribution from this sample, e.g, resample this sample 1000 times, and calculate a confidence interval (middle 95%) for the median of the population."
      ]
    },
    {
      "cell_type": "code",
      "execution_count": 6,
      "metadata": {
        "id": "aRmq3UgYVRGe"
      },
      "outputs": [
        {
          "data": {
            "text/plain": [
              "array([ 95.14676669, 100.69077284])"
            ]
          },
          "execution_count": 6,
          "metadata": {},
          "output_type": "execute_result"
        }
      ],
      "source": [
        "# Hint: random normal function takes (loc = 100, scale =15,size=100) as input\n",
        "# use np.median()\n",
        "import numpy as np\n",
        "\n",
        "tmp = np.random.normal(loc = 100, scale =15,size=100)\n",
        "\n",
        "means_boot_samples = []\n",
        "for i in range(1000):\n",
        "                boot_sample = np.random.choice(tmp, 100)\n",
        "                means_boot_samples.append(boot_sample.mean())\n",
        "        \n",
        "np.median(means_boot_samples)\n",
        "\n",
        "conf_int = np.percentile(means_boot_samples, [2.5, 97.5]) # The middle 95% interval\n",
        "conf_int"
      ]
    },
    {
      "cell_type": "code",
      "execution_count": 9,
      "metadata": {},
      "outputs": [
        {
          "data": {
            "text/plain": [
              "array([ 95.21190562, 100.74792987])"
            ]
          },
          "execution_count": 9,
          "metadata": {},
          "output_type": "execute_result"
        }
      ],
      "source": [
        "from sklearn.utils import resample\n",
        "means_boot_samples = []\n",
        "for i in range(1000):\n",
        "                boot_sample = resample(tmp) # does bootstrap; replace = True\n",
        "                means_boot_samples.append(boot_sample.mean())\n",
        "        \n",
        "np.median(means_boot_samples)\n",
        "\n",
        "conf_int = np.percentile(means_boot_samples, [2.5, 97.5]) # The middle 95% interval\n",
        "conf_int"
      ]
    }
  ],
  "metadata": {
    "colab": {
      "name": "Classwork_3.ipynb",
      "provenance": []
    },
    "kernelspec": {
      "display_name": "Python 3",
      "name": "python3"
    },
    "language_info": {
      "codemirror_mode": {
        "name": "ipython",
        "version": 3
      },
      "file_extension": ".py",
      "mimetype": "text/x-python",
      "name": "python",
      "nbconvert_exporter": "python",
      "pygments_lexer": "ipython3",
      "version": "3.12.2"
    }
  },
  "nbformat": 4,
  "nbformat_minor": 0
}
