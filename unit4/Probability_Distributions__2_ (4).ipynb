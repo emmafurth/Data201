{
  "cells": [
    {
      "cell_type": "markdown",
      "metadata": {
        "id": "b9r4WFIc4HJs"
      },
      "source": [
        "### Module scipy.stats\n",
        "\n",
        "Statistical functions (scipy.stats)\n",
        "This module contains a large number of probability distributions as well as a growing library of statistical functions.\n",
        "\n",
        "Each univariate distribution is an instance of a subclass of rv_continuous (rv_discrete for discrete distributions).\n",
        "\n",
        "[scipy.stats](https://docs.scipy.org/doc/scipy/reference/stats.html)\n",
        "\n"
      ]
    },
    {
      "cell_type": "code",
      "execution_count": 19,
      "metadata": {
        "colab": {
          "base_uri": "https://localhost:8080/",
          "height": 34
        },
        "id": "sRZ8CSTeM97U",
        "outputId": "d6d467ea-9444-4d4f-ce47-4dd8300edd91"
      },
      "outputs": [
        {
          "data": {
            "text/plain": [
              "0.3989422804014327"
            ]
          },
          "execution_count": 19,
          "metadata": {},
          "output_type": "execute_result"
        }
      ],
      "source": [
        "## Density function\n",
        "\n",
        "from scipy.stats import norm\n",
        "norm.pdf(0) # same as dnorm(0) in R: density"
      ]
    },
    {
      "cell_type": "markdown",
      "metadata": {
        "id": "3I7V4oiS7N8Y"
      },
      "source": [
        "Single variable Normal (Gaussian) distribution\n",
        "f(x) is the density function; it is not the probability of x \n",
        "\n",
        "<img src= \"https://i.stack.imgur.com/oXbxu.jpg\">"
      ]
    },
    {
      "cell_type": "code",
      "execution_count": 20,
      "metadata": {
        "colab": {
          "base_uri": "https://localhost:8080/",
          "height": 34
        },
        "id": "qO9xPJR_o9Ec",
        "outputId": "a2f85a92-ddbc-44dc-934d-30cd69501849"
      },
      "outputs": [
        {
          "data": {
            "text/plain": [
              "0.0"
            ]
          },
          "execution_count": 20,
          "metadata": {},
          "output_type": "execute_result"
        }
      ],
      "source": [
        "norm.ppf(0.5) # quantile (percent point) function same as qnorm(0.5) in R. Find x such that P(X<=x) = 0.5 --> x = 0"
      ]
    },
    {
      "cell_type": "markdown",
      "metadata": {
        "id": "p75F0-I--GOT"
      },
      "source": [
        "<img src='https://online.stat.psu.edu/stat500/sites/stat500/files/inline-images/500%20l1%20median%2050th.png' >"
      ]
    },
    {
      "cell_type": "code",
      "execution_count": 21,
      "metadata": {
        "colab": {
          "base_uri": "https://localhost:8080/",
          "height": 34
        },
        "id": "h2QMvDOCpMJb",
        "outputId": "90e00115-3146-4735-ce87-1603d8a21310"
      },
      "outputs": [
        {
          "data": {
            "text/plain": [
              "0.5"
            ]
          },
          "execution_count": 21,
          "metadata": {},
          "output_type": "execute_result"
        }
      ],
      "source": [
        "## Cumulative distribution function:   cdf(x, loc=0, scale=1)\n",
        "\n",
        "norm.cdf(0) # same as pnorm(0) in R. This means P(X<=0) = 0.5"
      ]
    },
    {
      "cell_type": "code",
      "execution_count": 22,
      "metadata": {
        "colab": {
          "base_uri": "https://localhost:8080/",
          "height": 34
        },
        "id": "89T6HUM1pZNn",
        "outputId": "f07bd254-bb4a-40cb-c79f-fe857804a7e0"
      },
      "outputs": [
        {
          "data": {
            "text/plain": [
              "array([ 2.11894049,  0.31997318, -2.0647141 ])"
            ]
          },
          "execution_count": 22,
          "metadata": {},
          "output_type": "execute_result"
        }
      ],
      "source": [
        "# Random variates (numbers):  rvs(loc=0, scale=1, size=1, random_state=None), loc is mean and scale is standard deviation\n",
        "\n",
        "norm.rvs(size=3) # same as rnorm(3) in R\n"
      ]
    },
    {
      "cell_type": "code",
      "execution_count": 23,
      "metadata": {
        "colab": {
          "base_uri": "https://localhost:8080/",
          "height": 34
        },
        "id": "N5WE0dcTa00u",
        "outputId": "d3e531aa-3792-44e9-dd23-cf2d5439540b"
      },
      "outputs": [
        {
          "data": {
            "text/plain": [
              "0.010934004978399577"
            ]
          },
          "execution_count": 23,
          "metadata": {},
          "output_type": "execute_result"
        }
      ],
      "source": [
        "# mean = 100, standard devaition 15\n",
        "\n",
        "norm.pdf(120, loc = 100, scale = 15)\n"
      ]
    },
    {
      "cell_type": "code",
      "execution_count": 24,
      "metadata": {
        "colab": {
          "base_uri": "https://localhost:8080/",
          "height": 34
        },
        "id": "IbBYtLH1XfRN",
        "outputId": "753da593-fb76-4d70-c132-2be8d47f4fb9"
      },
      "outputs": [
        {
          "data": {
            "text/plain": [
              "array([112.76467625,  81.28589093,  98.50018736])"
            ]
          },
          "execution_count": 24,
          "metadata": {},
          "output_type": "execute_result"
        }
      ],
      "source": [
        "norm.rvs(100,15,3)\n"
      ]
    },
    {
      "cell_type": "code",
      "execution_count": 25,
      "metadata": {
        "colab": {
          "base_uri": "https://localhost:8080/",
          "height": 34
        },
        "id": "wfuE90Ceb5JI",
        "outputId": "dbf70a63-190d-47e2-9eed-9fe3f828bb76"
      },
      "outputs": [
        {
          "data": {
            "text/plain": [
              "array([0.39894228, 0.24197072])"
            ]
          },
          "execution_count": 25,
          "metadata": {},
          "output_type": "execute_result"
        }
      ],
      "source": [
        "# Density function: f(0) and f(1)\n",
        "x = [0,1]\n",
        "norm.pdf(x) ## instead of looping over the list: norm.pdf(0), norm.pdf(1)"
      ]
    },
    {
      "cell_type": "code",
      "execution_count": 26,
      "metadata": {
        "colab": {
          "base_uri": "https://localhost:8080/",
          "height": 34
        },
        "id": "VTMYd9e2l9B2",
        "outputId": "2d9d3a6b-17bc-4721-dade-d59945689fff"
      },
      "outputs": [
        {
          "data": {
            "text/plain": [
              "array([0.5       , 0.84134475])"
            ]
          },
          "execution_count": 26,
          "metadata": {},
          "output_type": "execute_result"
        }
      ],
      "source": [
        "norm.cdf(x)   # cumulative distribution 1D gaussian; x=[0,1] is considered as x = 0, x=1 --> norm.cdf(0) and norm.cdf(1)"
      ]
    },
    {
      "cell_type": "code",
      "execution_count": 27,
      "metadata": {
        "colab": {
          "base_uri": "https://localhost:8080/",
          "height": 34
        },
        "id": "1wIJYRilf5tC",
        "outputId": "8aaddeed-d433-433b-f6da-ee27a2973cf9"
      },
      "outputs": [
        {
          "data": {
            "text/plain": [
              "array([0.39894228, 0.24197072])"
            ]
          },
          "execution_count": 27,
          "metadata": {},
          "output_type": "execute_result"
        }
      ],
      "source": [
        "# Multivariate is same as single variate norm.pdf if no vector of means and cov are provided\n",
        "from scipy.stats import multivariate_normal\n",
        "multivariate_normal.pdf(x) # x contains two points in a one-dimensional gaussian"
      ]
    },
    {
      "cell_type": "code",
      "execution_count": 28,
      "metadata": {
        "colab": {
          "base_uri": "https://localhost:8080/",
          "height": 34
        },
        "id": "GPTX7rOPZpPn",
        "outputId": "599cf58f-2c76-485e-af46-5c12dd8d29e5"
      },
      "outputs": [
        {
          "data": {
            "text/plain": [
              "0.938946654317422"
            ]
          },
          "execution_count": 28,
          "metadata": {},
          "output_type": "execute_result"
        }
      ],
      "source": [
        "# instantiate a normal multivariate and assign to a variable var1\n",
        "var = multivariate_normal()\n",
        "var.rvs()  # generate one random sample from one-dim gaussian distribution"
      ]
    },
    {
      "cell_type": "code",
      "execution_count": 29,
      "metadata": {
        "colab": {
          "base_uri": "https://localhost:8080/",
          "height": 34
        },
        "id": "3gPOWecYkY2g",
        "outputId": "3bbacec5-a96a-476c-d9fc-1669cdae8488"
      },
      "outputs": [
        {
          "data": {
            "text/plain": [
              "0.09653235263005393"
            ]
          },
          "execution_count": 29,
          "metadata": {},
          "output_type": "execute_result"
        }
      ],
      "source": [
        "## mean = [0,0] is the mean of a two dimensional variate. x=[0,1] is considered as a point in  2D \n",
        "from scipy.stats import multivariate_normal\n",
        "var1 = multivariate_normal(mean=[0,0], cov=1)\n",
        "var1.pdf(x) # x contains one point in a two-dim gaussian"
      ]
    },
    {
      "cell_type": "markdown",
      "metadata": {
        "id": "bftvK1pPjahM"
      },
      "source": [
        "<img src = 'https://upload.wikimedia.org/wikipedia/commons/8/8e/MultivariateNormal.png'>\n",
        "\n",
        "<img src = 'https://upload.wikimedia.org/wikipedia/commons/thumb/5/57/Multivariate_Gaussian.png/600px-Multivariate_Gaussian.png' >"
      ]
    },
    {
      "cell_type": "code",
      "execution_count": 30,
      "metadata": {
        "colab": {
          "base_uri": "https://localhost:8080/",
          "height": 34
        },
        "id": "fTgoEkD8lvuH",
        "outputId": "5d19a2cc-2a4e-4b76-a907-eb5996894cd1"
      },
      "outputs": [
        {
          "data": {
            "text/plain": [
              "array([-0.95312675, -1.636372  ])"
            ]
          },
          "execution_count": 30,
          "metadata": {},
          "output_type": "execute_result"
        }
      ],
      "source": [
        "var1.rvs() # generate one random sample from 2D gaussian"
      ]
    },
    {
      "cell_type": "code",
      "execution_count": 31,
      "metadata": {
        "colab": {
          "base_uri": "https://localhost:8080/",
          "height": 187
        },
        "id": "cEM5-MiR8awC",
        "outputId": "8bba76d2-4f2c-4dc6-c5c8-91da32158be7"
      },
      "outputs": [
        {
          "name": "stdout",
          "output_type": "stream",
          "text": [
            "1\n",
            "1\n",
            "1\n",
            "0\n",
            "1\n",
            "0\n",
            "0\n",
            "1\n",
            "1\n",
            "1\n"
          ]
        }
      ],
      "source": [
        "import matplotlib.pyplot as plt\n",
        "import numpy as np\n",
        "\n",
        "# random numbers from a Bernoulli distribution (binary outcome) e.g., tossing a  coin heads/tails 10 times\n",
        "\n",
        " # 0-------------p--1\n",
        "                                 #.....\n",
        "def bern(p):\n",
        "  r = np.random.uniform(0,1)\n",
        "  if r < p:\n",
        "    return 1\n",
        "  else:\n",
        "    return 0\n",
        "\n",
        "size = 10\n",
        "for i in range(size):\n",
        "  coin = bern(0.5)  # fair coin\n",
        "  print(coin)"
      ]
    },
    {
      "cell_type": "markdown",
      "metadata": {
        "id": "8ACXKY1Wrvz_"
      },
      "source": [
        "\n",
        "<img src='https://web.mit.edu/urban_or_book/www/book/chapter7/images7/fig7.2.gif'>"
      ]
    },
    {
      "cell_type": "code",
      "execution_count": 32,
      "metadata": {
        "colab": {
          "base_uri": "https://localhost:8080/",
          "height": 187
        },
        "id": "V5mgQ3MIo5dT",
        "outputId": "61c0a015-b16a-4838-c98b-ad63e84711bc"
      },
      "outputs": [
        {
          "name": "stdout",
          "output_type": "stream",
          "text": [
            "1\n",
            "1\n",
            "0\n",
            "1\n",
            "1\n",
            "1\n",
            "1\n",
            "0\n",
            "0\n",
            "1\n"
          ]
        }
      ],
      "source": [
        "from scipy.stats import bernoulli\n",
        "size = 10\n",
        "for i in range(size):\n",
        "  coin = bernoulli.rvs(0.5)  # fair coin\n",
        "  print(coin)"
      ]
    },
    {
      "cell_type": "code",
      "execution_count": 33,
      "metadata": {
        "colab": {
          "base_uri": "https://localhost:8080/",
          "height": 34
        },
        "id": "l__m4WuZyx0i",
        "outputId": "3e7a24ae-a4a9-4ce0-8baf-6b575e02d23a"
      },
      "outputs": [
        {
          "name": "stdout",
          "output_type": "stream",
          "text": [
            "[3, 7]\n"
          ]
        }
      ],
      "source": [
        "# Binomial distribution: binomial random variable is the number of heads or positives or successes x in n repeated trials of a binomial experiment\n",
        "# Example: simulation of the number of heads and tails by tossing a fair coin 10 times\n",
        "def bern(p):\n",
        "  r = np.random.uniform(0,1)\n",
        "  if r < p:\n",
        "    return 1\n",
        "  else:\n",
        "    return 0\n",
        "\n",
        "size = 10\n",
        "x = [0,1]\n",
        "y = [0,0]\n",
        "\n",
        "for i in range(size):\n",
        "  index = bern(0.5)\n",
        "  y[index] +=1\n",
        "\n",
        "print(y)\n",
        "\n"
      ]
    },
    {
      "cell_type": "markdown",
      "metadata": {
        "id": "_IFHZw_9qbgC"
      },
      "source": [
        "<img src='https://www.onlinemathlearning.com/image-files/binomial-distribution-formula.png'>"
      ]
    },
    {
      "cell_type": "code",
      "execution_count": 34,
      "metadata": {
        "colab": {
          "base_uri": "https://localhost:8080/",
          "height": 282
        },
        "id": "jxqwy4NBHppK",
        "outputId": "8dbe7c86-e3ef-4f23-844d-2a7a1979cfb1"
      },
      "outputs": [
        {
          "data": {
            "text/plain": [
              "<BarContainer object of 2 artists>"
            ]
          },
          "execution_count": 34,
          "metadata": {},
          "output_type": "execute_result"
        },
        {
          "data": {
            "image/png": "[encoded data removed]",
            "text/plain": [
              "<Figure size 640x480 with 1 Axes>"
            ]
          },
          "metadata": {},
          "output_type": "display_data"
        }
      ],
      "source": [
        "import matplotlib.pyplot as plt\n",
        "y[0] = y[0]/size\n",
        "y[1] = y[1]/size\n",
        "plt.bar(x,y, 0.2)"
      ]
    },
    {
      "cell_type": "code",
      "execution_count": 35,
      "metadata": {
        "colab": {
          "base_uri": "https://localhost:8080/",
          "height": 187
        },
        "id": "zD1dm-VJovw0",
        "outputId": "3dd3a979-36a7-4e00-dd26-99a825543e28"
      },
      "outputs": [
        {
          "name": "stdout",
          "output_type": "stream",
          "text": [
            "[1]\n",
            "[0]\n",
            "[0]\n",
            "[1]\n",
            "[0]\n",
            "[1]\n",
            "[0]\n",
            "[1]\n",
            "[1]\n",
            "[1]\n"
          ]
        }
      ],
      "source": [
        "# Bernoulli as a special case of Binomial                     1001111000 -> 5      9\n",
        "#                                                              1110000001-> 4       8\n",
        "from scipy.stats import binom\n",
        "\n",
        "size = 10\n",
        "for i in range(size):\n",
        "  coin = binom.rvs(1,0.5, size=1)  # fair coin       \n",
        "  print(coin)"
      ]
    },
    {
      "cell_type": "code",
      "execution_count": 36,
      "metadata": {
        "colab": {
          "base_uri": "https://localhost:8080/",
          "height": 34
        },
        "id": "3pc7s1cEsw9d",
        "outputId": "c912750d-b062-4142-b4d2-ff28b06fb46b"
      },
      "outputs": [
        {
          "data": {
            "text/plain": [
              "array([7], dtype=int64)"
            ]
          },
          "execution_count": 36,
          "metadata": {},
          "output_type": "execute_result"
        }
      ],
      "source": [
        "binom.rvs(10,0.5, size=1)        #. "
      ]
    },
    {
      "cell_type": "code",
      "execution_count": 37,
      "metadata": {
        "colab": {
          "base_uri": "https://localhost:8080/",
          "height": 34
        },
        "id": "gYLjY99Nte76",
        "outputId": "eb669f8d-c42e-46b6-de5d-9ca465bee6a8"
      },
      "outputs": [
        {
          "data": {
            "text/plain": [
              "5.0"
            ]
          },
          "execution_count": 37,
          "metadata": {},
          "output_type": "execute_result"
        }
      ],
      "source": [
        "binom.ppf(0.5, n=10, p=0.5)"
      ]
    },
    {
      "cell_type": "code",
      "execution_count": 38,
      "metadata": {
        "colab": {
          "base_uri": "https://localhost:8080/",
          "height": 51
        },
        "id": "HHHjTZkxuIvv",
        "outputId": "3e5d4951-b5a4-47d7-f3cd-96c91c56d75d"
      },
      "outputs": [
        {
          "name": "stdout",
          "output_type": "stream",
          "text": [
            "0.623046875\n"
          ]
        },
        {
          "data": {
            "text/plain": [
              "True"
            ]
          },
          "execution_count": 38,
          "metadata": {},
          "output_type": "execute_result"
        }
      ],
      "source": [
        "prob= binom.cdf(5, n=10, p=0.5)\n",
        "print(prob)\n",
        "np.allclose(5, binom.ppf(prob, n=10, p=0.5))"
      ]
    },
    {
      "cell_type": "code",
      "execution_count": 39,
      "metadata": {
        "colab": {
          "base_uri": "https://localhost:8080/",
          "height": 34
        },
        "id": "aCXTo-utwIap",
        "outputId": "56f51d73-0d68-4e37-edc9-1d3433bc184c"
      },
      "outputs": [
        {
          "data": {
            "text/plain": [
              "0.24609375"
            ]
          },
          "execution_count": 39,
          "metadata": {},
          "output_type": "execute_result"
        }
      ],
      "source": [
        "binom.pmf(5, n=10, p=0.5)"
      ]
    },
    {
      "cell_type": "code",
      "execution_count": 40,
      "metadata": {
        "colab": {
          "base_uri": "https://localhost:8080/",
          "height": 34
        },
        "id": "H-0QeDH_wbex",
        "outputId": "9f9d481e-c26a-41b9-f12f-7f5f16180fd1"
      },
      "outputs": [
        {
          "data": {
            "text/plain": [
              "0.24609375"
            ]
          },
          "execution_count": 40,
          "metadata": {},
          "output_type": "execute_result"
        }
      ],
      "source": [
        "binom.cdf(5, n=10, p=0.5) - binom.cdf(4, n=10, p=0.5)"
      ]
    },
    {
      "cell_type": "code",
      "execution_count": 41,
      "metadata": {
        "colab": {
          "base_uri": "https://localhost:8080/",
          "height": 34
        },
        "id": "bskjlYhhKLmV",
        "outputId": "4ca5e8aa-ae31-4450-90da-03f0b589109f"
      },
      "outputs": [
        {
          "data": {
            "text/plain": [
              "0.24817036595415076"
            ]
          },
          "execution_count": 41,
          "metadata": {},
          "output_type": "execute_result"
        }
      ],
      "source": [
        "from scipy.stats import norm\n",
        "norm.cdf(5.5, loc= 5, scale=(0.5)*(10**(0.5)) ) - norm.cdf(4.5, loc= 5, scale=(0.5)*(10**(0.5)) )"
      ]
    },
    {
      "cell_type": "code",
      "execution_count": 42,
      "metadata": {
        "colab": {
          "base_uri": "https://localhost:8080/",
          "height": 187
        },
        "id": "4e6LdKdDDljs",
        "outputId": "b0bf758d-8b87-42fa-dc22-441aea4a96df"
      },
      "outputs": [
        {
          "name": "stdout",
          "output_type": "stream",
          "text": [
            "5\n",
            "4\n",
            "3\n",
            "1\n",
            "4\n",
            "4\n",
            "6\n",
            "1\n",
            "4\n",
            "5\n"
          ]
        }
      ],
      "source": [
        "# Categorical variable with more than two outcomes\n",
        "\n",
        "# Example: random outcomes of a die tossed 10 times\n",
        "\n",
        "# 0-------p1--p1+p2------p1+p2+p3-------p1+p2+p3+p4----p1+p2+p3+p4+p5------1\n",
        "\n",
        "def categ(p1,p2,p3,p4,p5,p6):\n",
        "  r = np.random.uniform(0,1)\n",
        "  if r < p1:\n",
        "    return 1\n",
        "  elif r < p1 + p2:\n",
        "    return 2\n",
        "  elif r < p1 + p2 + p3:\n",
        "    return 3\n",
        "  elif r < p1 + p2 + p3 + p4:\n",
        "    return 4\n",
        "  elif r < p1 + p2 + p3 + p4 + p5:\n",
        "    return 5\n",
        "  else: return 6\n",
        "\n",
        "size = 10\n",
        "for i in range(size):\n",
        "  dice = categ(1/6,1/6, 1/6, 1/6, 1/6, 1/6)  # fair die\n",
        "  print(dice)\n",
        "    \n"
      ]
    },
    {
      "cell_type": "code",
      "execution_count": 43,
      "metadata": {
        "colab": {
          "base_uri": "https://localhost:8080/",
          "height": 34
        },
        "id": "tUCQj0-SGjDe",
        "outputId": "12530763-06e6-4852-8856-fe3db3c227da"
      },
      "outputs": [
        {
          "name": "stdout",
          "output_type": "stream",
          "text": [
            "[0, 3, 2, 1, 1, 3]\n"
          ]
        }
      ],
      "source": [
        "# Multinomial distribution is the equivalent of the binomial distribution when the categorical variable has more than two outcomes\n",
        "# Example: Simulation of the number  of times each side of a fair die shows up if the die is tossed 10 times\n",
        "\n",
        "\n",
        "y = [0,0,0,0,0,0,0] # initialize count to zero\n",
        "size = 10\n",
        "\n",
        "for i in range(size):\n",
        "  dice = categ(1/6,1/6, 1/6, 1/6, 1/6, 1/6)\n",
        "  y[dice] += 1\n",
        "  \n",
        "print(y[1:])\n",
        "\n",
        "\n",
        "\n",
        "    "
      ]
    },
    {
      "cell_type": "code",
      "execution_count": 44,
      "metadata": {
        "colab": {
          "base_uri": "https://localhost:8080/",
          "height": 282
        },
        "id": "UuoOqlEJImCh",
        "outputId": "b8bd6b72-9c7b-42c6-bca7-4396ad0f7be0"
      },
      "outputs": [
        {
          "data": {
            "text/plain": [
              "<BarContainer object of 6 artists>"
            ]
          },
          "execution_count": 44,
          "metadata": {},
          "output_type": "execute_result"
        },
        {
          "data": {
            "image/png": "[encoded data removed]",
            "text/plain": [
              "<Figure size 640x480 with 1 Axes>"
            ]
          },
          "metadata": {},
          "output_type": "display_data"
        }
      ],
      "source": [
        "x = [1,2,3,4,5,6] # points on x-coordinate\n",
        "\n",
        "y[1] = y[1]/size\n",
        "y[2] = y[2]/size\n",
        "y[3] = y[3]/size\n",
        "y[4] = y[4]/size\n",
        "y[5] = y[5]/size\n",
        "y[6] = y[6]/size\n",
        "\n",
        "y[1:]\n",
        "plt.bar(x,y[1:], 0.1)"
      ]
    },
    {
      "cell_type": "markdown",
      "metadata": {
        "id": "Vwla05aguX5b"
      },
      "source": [
        "Using Numpy"
      ]
    },
    {
      "cell_type": "code",
      "execution_count": 45,
      "metadata": {
        "colab": {
          "base_uri": "https://localhost:8080/",
          "height": 34
        },
        "id": "a5BMz_Zruc7u",
        "outputId": "06b8bc3d-de74-4fb0-8987-6e9c34d09529"
      },
      "outputs": [
        {
          "data": {
            "text/plain": [
              "array([5, 4, 4, 6, 6, 2, 5, 4, 6, 2])"
            ]
          },
          "execution_count": 45,
          "metadata": {},
          "output_type": "execute_result"
        }
      ],
      "source": [
        "# Using numpy to simulate random outcomes of a die tossed 10 times\n",
        "die_1 = np.random.choice( a=[1, 2, 3,4,5,6],  size=10,  p=[1/6, 1/6, 1/6, 1/6, 1/6,1/6]  )\n",
        "die_1"
      ]
    },
    {
      "cell_type": "code",
      "execution_count": 46,
      "metadata": {
        "colab": {
          "base_uri": "https://localhost:8080/",
          "height": 34
        },
        "id": "cDZbmg93xhYu",
        "outputId": "273f4bd9-64ad-457d-f9f6-4c9badc58e41"
      },
      "outputs": [
        {
          "data": {
            "text/plain": [
              "array([0, 3, 1, 1, 2, 3])"
            ]
          },
          "execution_count": 46,
          "metadata": {},
          "output_type": "execute_result"
        }
      ],
      "source": [
        "# Using numpy generate samples from a multinomial distribution, i.e., \n",
        "# the number  of times each side of a fair die shows up if the die is tossed 10 times\n",
        "np.random.multinomial(10, [1/6, 1/6, 1/6, 1/6, 1/6,1/6])"
      ]
    },
    {
      "cell_type": "markdown",
      "metadata": {
        "id": "_2wpF02Dysuy"
      },
      "source": [
        "Probability of multinomial distribution\n",
        "\n",
        "<img src='https://www.statisticshowto.com/wp-content/uploads/2015/05/multinomial-formula-2.png'>"
      ]
    },
    {
      "cell_type": "markdown",
      "metadata": {
        "id": "wQ9Eijq_uZTR"
      },
      "source": [
        "### Summary\n",
        "\n",
        "Bernoulli has two outcomes, e.g., Success(1) with probaility p and Failure(0) with probabilty 1- p. \n",
        "\n",
        "Binomial is about the count of number of successes in N trials. It is the sum of the Bernoullis (ones and zeros)\n",
        "\n",
        "Categorical has more than two discrete outcomes with probabilities p1, p2, p3, ....\n",
        "\n",
        "Multinomial is about the count of each category.\n",
        "\n",
        "Bernoulli is a special case of categorical \n",
        "\n",
        "Binomial is a special case of multinomial"
      ]
    },
    {
      "cell_type": "markdown",
      "metadata": {
        "id": "oZH5ZY90xNPS"
      },
      "source": [
        "[GitHub ThinkX](https://github.com/AllenDowney/ThinkX)"
      ]
    },
    {
      "cell_type": "code",
      "execution_count": 47,
      "metadata": {
        "colab": {
          "base_uri": "https://localhost:8080/",
          "height": 428
        },
        "id": "vqsQ3CJMtESy",
        "outputId": "ff1bfefb-7451-4eb7-b067-39e8c13f1ac7"
      },
      "outputs": [
        {
          "name": "stderr",
          "output_type": "stream",
          "text": [
            "ERROR: Invalid requirement: '#thinkstats2'\n",
            "\n",
            "[notice] A new release of pip is available: 24.0 -> 25.0.1\n",
            "[notice] To update, run: python.exe -m pip install --upgrade pip\n"
          ]
        }
      ],
      "source": [
        "import random\n",
        "!pip install ThinkX #thinkstats2\n"
      ]
    },
    {
      "cell_type": "code",
      "execution_count": 48,
      "metadata": {
        "id": "k4k1Uf4jvVyg"
      },
      "outputs": [
        {
          "ename": "ModuleNotFoundError",
          "evalue": "No module named 'thinkstats2'",
          "output_type": "error",
          "traceback": [
            "\u001b[1;31m---------------------------------------------------------------------------\u001b[0m",
            "\u001b[1;31mModuleNotFoundError\u001b[0m                       Traceback (most recent call last)",
            "Cell \u001b[1;32mIn[48], line 1\u001b[0m\n\u001b[1;32m----> 1\u001b[0m \u001b[38;5;28;01mimport\u001b[39;00m \u001b[38;5;21;01mthinkstats2\u001b[39;00m\n\u001b[0;32m      2\u001b[0m \u001b[38;5;28;01mimport\u001b[39;00m \u001b[38;5;21;01mthinkplot\u001b[39;00m\n",
            "\u001b[1;31mModuleNotFoundError\u001b[0m: No module named 'thinkstats2'"
          ]
        }
      ],
      "source": [
        "import thinkstats2\n",
        "import thinkplot"
      ]
    },
    {
      "cell_type": "markdown",
      "metadata": {
        "id": "Zn-sCsXQwKqg"
      },
      "source": [
        "**Hypothesis testing**\n",
        "\n",
        "Reference: Chapter 9 of [ThinkStats2](http://greenteapress.com/thinkstats2/thinkstats2.pdf)\n",
        "\n",
        "The following is a version of thinkstats2.HypothesisTest with just the essential methods:"
      ]
    },
    {
      "cell_type": "code",
      "execution_count": null,
      "metadata": {
        "id": "sEcC0epmvjTl"
      },
      "outputs": [],
      "source": [
        "class HypothesisTest(object):\n",
        "\n",
        "    def __init__(self, data):\n",
        "        self.data = data\n",
        "        self.MakeModel()\n",
        "        self.actual = self.TestStatistic(data)\n",
        "\n",
        "    def PValue(self, iters=1000):\n",
        "        self.test_stats = [self.TestStatistic(self.RunModel()) \n",
        "                           for _ in range(iters)]\n",
        "\n",
        "        count = sum(1 for x in self.test_stats if x >= self.actual)\n",
        "        return count / iters\n",
        "\n",
        "    def TestStatistic(self, data):\n",
        "        raise UnimplementedMethodException()\n",
        "\n",
        "    def MakeModel(self):\n",
        "        pass\n",
        "\n",
        "    def RunModel(self):\n",
        "        raise UnimplementedMethodException()"
      ]
    },
    {
      "cell_type": "markdown",
      "metadata": {
        "id": "MIam5RhJwDoy"
      },
      "source": [
        "And here's an example that uses it to compute the p-value of an experiment where we toss a coin 250 times and get 140 heads.\n",
        "\n",
        "\n",
        "Sample: \n",
        "         \n",
        "         Heads    Tails    Absolute difference         \n",
        "         140      110          30 \n",
        "Actual difference: self.actual = 30\n",
        "\n",
        "Model (Null Hypothesis): A fair coin has absolute difference of almost zero. \n",
        "\n",
        "Simulate 1000 times. Each time toss the coin 250 times and calculate the absolute difference \n",
        "\n",
        "      Heads    Tails    Absolute difference         \n",
        "         130      120          10 \n",
        "         127      123          4\n",
        "         145      105          40 -----> 40 = x >= self.actual = 30\n",
        "         135      115          20\n",
        "         ...      ...          ...\n",
        "         ...      ...          ...\n",
        "How many times (out of 1000 simulations) do we get absolute differences greater (more extreme) or equal to the sample absolute difference of 30?  \n",
        "\n",
        "It turns out 72 times out of 1000.         "
      ]
    },
    {
      "cell_type": "code",
      "execution_count": null,
      "metadata": {
        "id": "Bg7JmqJOvpJa"
      },
      "outputs": [],
      "source": [
        "class CoinTest(HypothesisTest):\n",
        "\n",
        "    def TestStatistic(self, data):\n",
        "        heads, tails = data\n",
        "        test_stat = abs(heads - tails)\n",
        "        return test_stat\n",
        "\n",
        "    def RunModel(self):\n",
        "        heads, tails = self.data\n",
        "        n = heads + tails\n",
        "        sample = [random.choice('HT') for _ in range(n)]\n",
        "        hist = thinkstats2.Hist(sample)\n",
        "        data = hist['H'], hist['T']\n",
        "        return data"
      ]
    },
    {
      "cell_type": "markdown",
      "metadata": {
        "id": "2jAZ_Kenv8tm"
      },
      "source": [
        "The p-value turns out to be about 7%, which is considered on the border of statistical significance."
      ]
    },
    {
      "cell_type": "code",
      "execution_count": null,
      "metadata": {
        "colab": {
          "base_uri": "https://localhost:8080/",
          "height": 34
        },
        "id": "YWPK4wy0v0lh",
        "outputId": "95c9f8d4-713f-421a-9a20-6e2d84295d10"
      },
      "outputs": [
        {
          "data": {
            "text/plain": [
              "0.069"
            ]
          },
          "execution_count": 29,
          "metadata": {
            "tags": []
          },
          "output_type": "execute_result"
        }
      ],
      "source": [
        "ct = CoinTest((140, 110))\n",
        "pvalue = ct.PValue()\n",
        "pvalue\n",
        "\n"
      ]
    },
    {
      "cell_type": "code",
      "execution_count": null,
      "metadata": {
        "id": "vhHyflgOv1sb"
      },
      "outputs": [],
      "source": [
        "from scipy.stats import binom\n",
        "\n",
        " binom.cdf()"
      ]
    },
    {
      "cell_type": "markdown",
      "metadata": {
        "id": "mzKZ8FB50QBr"
      },
      "source": [
        "### Entropy (Physics)\n",
        "Entropy is often interpreted as the degree of disorder or randomness in the system.\n",
        "\n",
        "How many ways can I get 4 heads (\"order\") if I toss a fair coin 4 times?\n",
        " HHHH --> only one way. Probabilty = 1/16\n",
        "\n",
        "How many ways can I get 2 heads and 2 tails (\"disorder\", \"messy\") if I toss to a fair coin 4 times?\n",
        " HHTT, HTHT, TTHH, THTH, HTTH, THHT --> 6 ways. Probability = 6/16\n",
        "\n",
        " There are more ways to have \"disorder\" than \"order\". The increase of entropy in the universe is statistical,i.e., disorder is more probable than order. It explains the arrow of time (past, present, future). Why do we grow old but not get younger? Why do we remember the past but not the future?\n",
        "\n",
        " Life struggles against entropy to maintain existence but increases the overall entropy of the universe by consuming and wasting energy.\n",
        " \n",
        "\n",
        "\n",
        "\n",
        "\n",
        "<img src='https://image.slidesharecdn.com/time-pop-11-120918154634-phpapp02/95/the-origin-of-the-universe-and-the-arrow-of-time-20-728.jpg'>"
      ]
    },
    {
      "cell_type": "markdown",
      "metadata": {
        "id": "fLb0zebN7ogK"
      },
      "source": [
        "Is the meaning of life to speed up the entropy (\"disorder\") of the universe?\n",
        "\n",
        "<img src='https://image.slidesharecdn.com/time-pop-11-120918154634-phpapp02/95/the-origin-of-the-universe-and-the-arrow-of-time-16-728.jpg?cb=1347984480'>"
      ]
    },
    {
      "cell_type": "markdown",
      "metadata": {
        "id": "MwHAbbdp3emG"
      },
      "source": [
        "### Information Entropy\n",
        "The information content of an event E is defined as ${\\displaystyle I(E)=-\\log _{2}(p(E))}$ or ${\\displaystyle I(E)=\\log _{2}(1/p(E))}$ \n",
        "where $p(E)$ is the probability of the event. The more surprising an event is (low probability), the more info content."
      ]
    },
    {
      "cell_type": "markdown",
      "metadata": {
        "id": "-gQhkLy99y8w"
      },
      "source": [
        "Claude Shannon (1916 – 2001), mathematician, electrical engineer, cryptographer\n",
        "\n",
        "<img src='https://i.ytimg.com/vi/z2Whj_nL-x8/hqdefault.jpg'>"
      ]
    },
    {
      "cell_type": "markdown",
      "metadata": {
        "id": "-OA7Y9cL9BF5"
      },
      "source": [
        "John Wheeler (1911 – 2008) , theoretical physicist\n",
        "\n",
        "<img src='https://i.ytimg.com/vi/6qMi0K6hlYA/hqdefault.jpg'>"
      ]
    },
    {
      "cell_type": "code",
      "execution_count": null,
      "metadata": {
        "colab": {
          "base_uri": "https://localhost:8080/",
          "height": 34
        },
        "id": "FJTDCmYD3biB",
        "outputId": "6dce0f81-14fd-40d0-9cbf-39840ca5e232"
      },
      "outputs": [
        {
          "data": {
            "text/plain": [
              "1.0"
            ]
          },
          "execution_count": 30,
          "metadata": {
            "tags": []
          },
          "output_type": "execute_result"
        }
      ],
      "source": [
        "# Fair coin\n",
        "from math import log2\n",
        "p = 0.5\n",
        "# info content of heads is one bit\n",
        "I = -log2(p)\n",
        "I"
      ]
    },
    {
      "cell_type": "markdown",
      "metadata": {
        "id": "loYOEwPuzXne"
      },
      "source": [
        "Let Heads  = 1 and Tails = 0. Then each side can be represented by one bit.\n",
        "\n",
        "` 1 ` \n",
        "\n",
        "` 0 `\n",
        "\n",
        "\n",
        "\n",
        "\n"
      ]
    },
    {
      "cell_type": "code",
      "execution_count": null,
      "metadata": {
        "colab": {
          "base_uri": "https://localhost:8080/",
          "height": 34
        },
        "id": "mNu7Kb-e93-7",
        "outputId": "e985bac0-bce9-4c8d-f541-cc8945c0416f"
      },
      "outputs": [
        {
          "data": {
            "text/plain": [
              "2.584962500721156"
            ]
          },
          "execution_count": 31,
          "metadata": {
            "tags": []
          },
          "output_type": "execute_result"
        }
      ],
      "source": [
        "# Fair die\n",
        "p = 1/6\n",
        "# info content of rolling 5 is 2.858 bits\n",
        "I = -log2(p)\n",
        "I"
      ]
    },
    {
      "cell_type": "markdown",
      "metadata": {
        "id": "w36kWb-U1Qsn"
      },
      "source": [
        "\n",
        "Each side of the die can be represented by 3 bits:\n",
        "\n",
        "` 0 0 1  `   ----> 1     \n",
        "` 0 1 0  `   -----> 2  \n",
        "` 0 1 1  `   ------>3    \n",
        "` 1 0 0  `  ------>4    \n",
        "` 1 0 1  `    ---->5   \n",
        "` 1 1 0  `    ----->6\n",
        "\n",
        "  Shannon's formula says we can do better, in principle. Each side of the die can be represented by 2.58 bits. Obviously, we haven't used `000` and `111` in the 3 bit representation. "
      ]
    },
    {
      "cell_type": "markdown",
      "metadata": {
        "id": "g7iQnLrF-iFR"
      },
      "source": [
        "Information theory defines the entropy $H$ of a random variable as the average info content of the variable's possible outcomes. \n",
        "$H(X)=E(I(X))=E(-\\log(P(X))$, \n",
        "where $\\operatorname {E}$ is the expected value or average of a variable.\n",
        "For a discrete random variable:\n",
        "${\\displaystyle \\mathrm {H} (X)=-\\sum _{i=1}^{n}{\\mathrm {P} (x_{i})\\log _{2}\\mathrm {P} (x_{i})}}$\n",
        "\n",
        "\n",
        "\n"
      ]
    },
    {
      "cell_type": "code",
      "execution_count": null,
      "metadata": {
        "colab": {
          "base_uri": "https://localhost:8080/",
          "height": 34
        },
        "id": "fXL_LlpgEpK3",
        "outputId": "4b9532d4-fe6d-45ac-8f32-fdad326c8fed"
      },
      "outputs": [
        {
          "data": {
            "text/plain": [
              "2.584962500721156"
            ]
          },
          "execution_count": 32,
          "metadata": {
            "tags": []
          },
          "output_type": "execute_result"
        }
      ],
      "source": [
        "# For a fair die\n",
        "p=1/6\n",
        "H = -sum([p * log2(p) for _ in range(6)])\n",
        "H"
      ]
    },
    {
      "cell_type": "code",
      "execution_count": null,
      "metadata": {
        "colab": {
          "base_uri": "https://localhost:8080/",
          "height": 34
        },
        "id": "V4NZu2q5gkOn",
        "outputId": "ace4279b-c8a9-4559-b9ba-c6ac02f91166"
      },
      "outputs": [
        {
          "data": {
            "text/plain": [
              "4.70043971814109"
            ]
          },
          "execution_count": 33,
          "metadata": {
            "tags": []
          },
          "output_type": "execute_result"
        }
      ],
      "source": [
        "# For a fair English alphabet\n",
        "p=1/26\n",
        "H = -sum([p * log2(p) for _ in range(26)])\n",
        "H"
      ]
    },
    {
      "cell_type": "markdown",
      "metadata": {
        "id": "ZiqCE17vUquT"
      },
      "source": [
        "### Intuition: \n",
        "The quantity of information is the number of bits required to send a random event from a probability distribution. It is also considered to measure \"Surprise\".  An event with high probability has less surprise, less entropy, less info, e.g., the Sun rose from the east this morning.\n",
        "An event with low probability surprises us; it has more info, more entropy, e.g., Breaking News: MC decided to ban all homework. "
      ]
    },
    {
      "cell_type": "markdown",
      "metadata": {
        "id": "_7tZMEOSGepo"
      },
      "source": [
        "### Using the library scipy.stats"
      ]
    },
    {
      "cell_type": "code",
      "execution_count": null,
      "metadata": {
        "colab": {
          "base_uri": "https://localhost:8080/",
          "height": 34
        },
        "id": "wTQqohs_B-_x",
        "outputId": "7839961a-edd9-4ffc-8c41-346460f20897"
      },
      "outputs": [
        {
          "data": {
            "text/plain": [
              "2.584962500721156"
            ]
          },
          "execution_count": 34,
          "metadata": {
            "tags": []
          },
          "output_type": "execute_result"
        }
      ],
      "source": [
        "# Fair die\n",
        "\n",
        "from scipy.stats import entropy\n",
        "\n",
        "p = [1/6, 1/6, 1/6, 1/6, 1/6, 1/6]\n",
        "# Entropy\n",
        "H = entropy(p, base=2)\n",
        "H"
      ]
    },
    {
      "cell_type": "markdown",
      "metadata": {
        "id": "fLHyHzHVITAB"
      },
      "source": [
        "### Relative entropy or Kullback-Leibler divergence\n",
        "Average number of extra bits to represent an event from distribution q instead of distribution p."
      ]
    },
    {
      "cell_type": "code",
      "execution_count": null,
      "metadata": {
        "colab": {
          "base_uri": "https://localhost:8080/",
          "height": 51
        },
        "id": "tC4zeU3NIYHW",
        "outputId": "3229e812-812d-4f38-938c-91942714e863"
      },
      "outputs": [
        {
          "name": "stdout",
          "output_type": "stream",
          "text": [
            "0.5108256237659907\n"
          ]
        },
        {
          "data": {
            "text/plain": [
              "0.18872187554086714"
            ]
          },
          "execution_count": 35,
          "metadata": {
            "tags": []
          },
          "output_type": "execute_result"
        }
      ],
      "source": [
        "print(entropy([1/2, 1/2], qk=[9/10, 1/10]))\n",
        "entropy([3/4, 1/4], qk=[1/2, 1/2], base=2)"
      ]
    },
    {
      "cell_type": "markdown",
      "metadata": {
        "id": "gUxr3G-tc_S4"
      },
      "source": [
        "### Cross-Entropy \n",
        "Average number of total bits to represent an event from distribution q instead of distribution P.\n",
        "\n",
        "It is used as a loss function in  Machine Learning, e.g., Logistic Regression"
      ]
    },
    {
      "cell_type": "code",
      "execution_count": null,
      "metadata": {
        "colab": {
          "base_uri": "https://localhost:8080/",
          "height": 34
        },
        "id": "n1_q7RAPdzTp",
        "outputId": "12115822-d9a8-489a-9f62-00c14a5615ff"
      },
      "outputs": [
        {
          "data": {
            "text/plain": [
              "1.736965594166206"
            ]
          },
          "execution_count": 36,
          "metadata": {
            "tags": []
          },
          "output_type": "execute_result"
        }
      ],
      "source": [
        "from math import log2\n",
        "\n",
        "def CrossEntropy(p, q):\n",
        "\treturn -sum([p[i]*log2(q[i]) for i in range(len(p))])\n",
        " \n",
        "p = [1/2, 1/2]\n",
        "q = [9/10, 1/10]\n",
        " \n",
        "CrossEntropy(p, q)"
      ]
    },
    {
      "cell_type": "markdown",
      "metadata": {
        "id": "ZEk20ERIwLZT"
      },
      "source": [
        "## Bootstrapping\n",
        "We have a sample data and want to infer about the parameter of a population.\n",
        "This method resamples the sample data many times to simulate the sampling distribution. Resampling means sampling from the sample data with replacement.\n",
        "\n",
        "Bootstrapping is a non-parametric method (no assumptions on distribution)"
      ]
    },
    {
      "cell_type": "markdown",
      "metadata": {
        "id": "ttHzsdbSYfQP"
      },
      "source": [
        "\n",
        "Bradley Efron published \"Bootstrap methods: another look at the jackknife\" (1979).\n",
        "He received the International Prize in Statistics at the 2019 World Statistics Congress\n",
        "\n",
        "<img src='https://newsroom.taylorandfrancisgroup.com/wp-content/uploads/2018/11/stat-award.png'>"
      ]
    },
    {
      "cell_type": "code",
      "execution_count": null,
      "metadata": {
        "colab": {
          "base_uri": "https://localhost:8080/",
          "height": 34
        },
        "id": "RYfr8GF2zYth",
        "outputId": "67c43aba-d7aa-4636-d3db-0f970ab8c34e"
      },
      "outputs": [
        {
          "data": {
            "text/plain": [
              "0.5043061672886167"
            ]
          },
          "execution_count": 37,
          "metadata": {
            "tags": []
          },
          "output_type": "execute_result"
        }
      ],
      "source": [
        "original_sample = np.random.random(100) # The sample is generated from uniform distribution \n",
        "original_sample.mean()"
      ]
    },
    {
      "cell_type": "code",
      "execution_count": null,
      "metadata": {
        "colab": {
          "base_uri": "https://localhost:8080/",
          "height": 34
        },
        "id": "hLOeMoy94D7-",
        "outputId": "88c1b30d-3cee-4b1a-f01b-68030d821cc3"
      },
      "outputs": [
        {
          "data": {
            "text/plain": [
              "0.504311718651857"
            ]
          },
          "execution_count": 38,
          "metadata": {
            "tags": []
          },
          "output_type": "execute_result"
        }
      ],
      "source": [
        "means_boot_samples = []\n",
        "for i in range(1000):\n",
        "                boot_sample = np.random.choice(original_sample, 100)\n",
        "                means_boot_samples.append(boot_sample.mean())\n",
        "        \n",
        "np.mean(means_boot_samples)\n",
        "\n",
        "\n"
      ]
    },
    {
      "cell_type": "code",
      "execution_count": null,
      "metadata": {
        "colab": {
          "base_uri": "https://localhost:8080/",
          "height": 34
        },
        "id": "J-VLQH7R4QH9",
        "outputId": "3d33e06e-897b-4782-b68c-af07e126b23e"
      },
      "outputs": [
        {
          "data": {
            "text/plain": [
              "array([0.44633398, 0.56302434])"
            ]
          },
          "execution_count": 39,
          "metadata": {
            "tags": []
          },
          "output_type": "execute_result"
        }
      ],
      "source": [
        "conf_int = np.percentile(means_boot_samples, [2.5, 97.5]) # The middle 95% interval\n",
        "conf_int\n",
        "\n"
      ]
    },
    {
      "cell_type": "code",
      "execution_count": null,
      "metadata": {
        "colab": {
          "base_uri": "https://localhost:8080/",
          "height": 265
        },
        "id": "dRhciAi04SUr",
        "outputId": "68113366-8216-443c-a072-e07543c34e23"
      },
      "outputs": [
        {
          "data": {
            "image/png": "[encoded data removed]",
            "text/plain": [
              "<Figure size 432x288 with 1 Axes>"
            ]
          },
          "metadata": {
            "needs_background": "light",
            "tags": []
          },
          "output_type": "display_data"
        }
      ],
      "source": [
        "import seaborn as sns\n",
        "sns.kdeplot(means_boot_samples)\n",
        "for endpoint in conf_int:\n",
        "    plt.axvline(endpoint, color='red')\n",
        "\n"
      ]
    },
    {
      "cell_type": "code",
      "execution_count": null,
      "metadata": {
        "colab": {
          "base_uri": "https://localhost:8080/",
          "height": 34
        },
        "id": "kXH5ZVrj4WRg",
        "outputId": "910dc60a-2703-4b8a-f062-71301aec0478"
      },
      "outputs": [
        {
          "data": {
            "text/plain": [
              "0.5048773366337267"
            ]
          },
          "execution_count": 41,
          "metadata": {
            "tags": []
          },
          "output_type": "execute_result"
        }
      ],
      "source": [
        "from sklearn.utils import resample\n",
        "means_boot_samples = []\n",
        "for i in range(1000):\n",
        "                boot_sample = resample(original_sample) # does bootstrap; replace = True\n",
        "                means_boot_samples.append(boot_sample.mean())\n",
        "        \n",
        "np.mean(means_boot_samples)"
      ]
    }
  ],
  "metadata": {
    "colab": {
      "name": "Probability_Distributions (2).ipynb",
      "provenance": []
    },
    "kernelspec": {
      "display_name": "Python 3",
      "name": "python3"
    },
    "language_info": {
      "codemirror_mode": {
        "name": "ipython",
        "version": 3
      },
      "file_extension": ".py",
      "mimetype": "text/x-python",
      "name": "python",
      "nbconvert_exporter": "python",
      "pygments_lexer": "ipython3",
      "version": "3.12.2"
    }
  },
  "nbformat": 4,
  "nbformat_minor": 0
}
